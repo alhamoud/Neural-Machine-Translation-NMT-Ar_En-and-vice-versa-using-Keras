{
  "nbformat": 4,
  "nbformat_minor": 0,
  "metadata": {
    "accelerator": "GPU",
    "colab": {
      "name": "Our_code (1).ipynb",
      "provenance": [],
      "collapsed_sections": []
    },
    "kernelspec": {
      "display_name": "Python 3",
      "language": "python",
      "name": "python3"
    },
    "language_info": {
      "codemirror_mode": {
        "name": "ipython",
        "version": 3
      },
      "file_extension": ".py",
      "mimetype": "text/x-python",
      "name": "python",
      "nbconvert_exporter": "python",
      "pygments_lexer": "ipython3",
      "version": "3.6.7"
    }
  },
  "cells": [
    {
      "cell_type": "code",
      "metadata": {
        "id": "GAEX3CPITvHR",
        "scrolled": true,
        "colab": {
          "base_uri": "https://localhost:8080/"
        },
        "outputId": "e09b2eda-9b1e-429f-fe62-6e455f60be01"
      },
      "source": [
        "from google.colab import drive\n",
        "drive.mount('/content/drive')"
      ],
      "execution_count": null,
      "outputs": [
        {
          "output_type": "stream",
          "name": "stdout",
          "text": [
            "Mounted at /content/drive\n"
          ]
        }
      ]
    },
    {
      "cell_type": "code",
      "metadata": {
        "id": "_9QZjhmxPOx8",
        "colab": {
          "base_uri": "https://localhost:8080/"
        },
        "outputId": "ad8348a1-0efe-49a8-ccb0-cd9b8b8609fd"
      },
      "source": [
        "%cd /content/drive/MyDrive/Colab Notebooks"
      ],
      "execution_count": null,
      "outputs": [
        {
          "output_type": "stream",
          "name": "stdout",
          "text": [
            "/content/drive/MyDrive/Colab Notebooks\n"
          ]
        }
      ]
    },
    {
      "cell_type": "code",
      "metadata": {
        "id": "DjnTvMRTDrCW",
        "colab": {
          "base_uri": "https://localhost:8080/"
        },
        "outputId": "901b4a37-59fb-4342-d79a-0bd83096f8a2"
      },
      "source": [
        "pip install python-bidi\n"
      ],
      "execution_count": null,
      "outputs": [
        {
          "output_type": "stream",
          "name": "stdout",
          "text": [
            "Collecting python-bidi\n",
            "  Downloading python_bidi-0.4.2-py2.py3-none-any.whl (30 kB)\n",
            "Requirement already satisfied: six in /usr/local/lib/python3.7/dist-packages (from python-bidi) (1.15.0)\n",
            "Installing collected packages: python-bidi\n",
            "Successfully installed python-bidi-0.4.2\n"
          ]
        }
      ]
    },
    {
      "cell_type": "code",
      "metadata": {
        "id": "GEg4LhAcM35A",
        "colab": {
          "base_uri": "https://localhost:8080/"
        },
        "outputId": "ad6a1bd8-d7bb-40d9-8d72-d03395c72ccd"
      },
      "source": [
        "pip install arabic_reshaper\n"
      ],
      "execution_count": null,
      "outputs": [
        {
          "output_type": "stream",
          "name": "stdout",
          "text": [
            "Collecting arabic_reshaper\n",
            "  Downloading arabic_reshaper-2.1.3-py3-none-any.whl (20 kB)\n",
            "Requirement already satisfied: setuptools in /usr/local/lib/python3.7/dist-packages (from arabic_reshaper) (57.4.0)\n",
            "Requirement already satisfied: future in /usr/local/lib/python3.7/dist-packages (from arabic_reshaper) (0.16.0)\n",
            "Installing collected packages: arabic-reshaper\n",
            "Successfully installed arabic-reshaper-2.1.3\n"
          ]
        }
      ]
    },
    {
      "cell_type": "code",
      "metadata": {
        "id": "h-Jx8kaBM7uV",
        "colab": {
          "base_uri": "https://localhost:8080/"
        },
        "outputId": "aa6a38b0-ec25-4972-8ba6-187b600dd6c0"
      },
      "source": [
        "pip install unicodedata"
      ],
      "execution_count": null,
      "outputs": [
        {
          "output_type": "stream",
          "name": "stdout",
          "text": [
            "\u001b[31mERROR: Could not find a version that satisfies the requirement unicodedata (from versions: none)\u001b[0m\n",
            "\u001b[31mERROR: No matching distribution found for unicodedata\u001b[0m\n"
          ]
        }
      ]
    },
    {
      "cell_type": "code",
      "metadata": {
        "id": "tnxXKDjq3jEL",
        "colab": {
          "base_uri": "https://localhost:8080/",
          "height": 35
        },
        "outputId": "0e2bdcf6-41f3-4148-cae9-6d15be743501"
      },
      "source": [
        "import os\n",
        "import time\n",
        "import re\n",
        "import io\n",
        "import math \n",
        "import unicodedata\n",
        "import numpy as np\n",
        "import tensorflow as tf\n",
        "import arabic_reshaper\n",
        "from string import digits\n",
        "from bidi.algorithm import get_display\n",
        "import matplotlib.pyplot as plt\n",
        "import matplotlib.ticker as ticker\n",
        "from sklearn.model_selection import train_test_split\n",
        "from __future__ import absolute_import, division, print_function\n",
        "\n",
        "'''\n",
        "from __future__ import absolute_import, division, print_function\n",
        "\n",
        "print(tf.__version__)\n",
        "'''\n"
      ],
      "execution_count": null,
      "outputs": [
        {
          "output_type": "execute_result",
          "data": {
            "application/vnd.google.colaboratory.intrinsic+json": {
              "type": "string"
            },
            "text/plain": [
              "'\\nfrom __future__ import absolute_import, division, print_function\\n\\nprint(tf.__version__)\\n'"
            ]
          },
          "metadata": {},
          "execution_count": 6
        }
      ]
    },
    {
      "cell_type": "code",
      "source": [
        "#!wget https://opus.nlpl.eu/download.php?f=OpenSubtitles/v2018/moses/ar-en.txt.zip 29m ready with name output_OpenSubtitles \n",
        "#ls\n",
        "#!unzip ar-en.txt.zip\n",
        "#ls\n",
        "'''\n",
        "https://opus.nlpl.eu/download.php?f=WikiMatrix/v1/moses/ar-en.txt.zip 1m\n",
        "\n",
        "https://opus.nlpl.eu/download.php?f=QED/v2.0a/moses/ar-en.txt.zip 500k\n",
        "https://opus.nlpl.eu/download.php?f=TED2013/v1.1/moses/ar-en.txt.zip 150k\n",
        "https://opus.nlpl.eu/download.php?f=News-Commentary/v16/moses/ar-en.txt.zip 97k\n",
        "https://opus.nlpl.eu/download.php?f=KDE4/v2/moses/ar-en.txt.zip 116k\n",
        "\n",
        "https://opus.nlpl.eu/download.php?f=Tanzil/v1/moses/ar-en.txt.zip 187k\n",
        "\n",
        "https://opus.nlpl.eu/download.php?f=Tatoeba/v2021-07-22/moses/ar-en.txt.zip 27900 ready with name output_Tatoeba\n",
        "'''\n"
      ],
      "metadata": {
        "colab": {
          "base_uri": "https://localhost:8080/",
          "height": 157
        },
        "id": "bJ2eTWpbe6ZE",
        "outputId": "14b2fba7-e979-44a7-a53d-25d64112c72f"
      },
      "execution_count": null,
      "outputs": [
        {
          "output_type": "execute_result",
          "data": {
            "application/vnd.google.colaboratory.intrinsic+json": {
              "type": "string"
            },
            "text/plain": [
              "'\\nhttps://opus.nlpl.eu/download.php?f=WikiMatrix/v1/moses/ar-en.txt.zip 1m\\n\\nhttps://opus.nlpl.eu/download.php?f=QED/v2.0a/moses/ar-en.txt.zip 500k\\nhttps://opus.nlpl.eu/download.php?f=TED2013/v1.1/moses/ar-en.txt.zip 150k\\nhttps://opus.nlpl.eu/download.php?f=News-Commentary/v16/moses/ar-en.txt.zip 97k\\nhttps://opus.nlpl.eu/download.php?f=KDE4/v2/moses/ar-en.txt.zip 116k\\n\\nhttps://opus.nlpl.eu/download.php?f=Tanzil/v1/moses/ar-en.txt.zip 187k\\n\\nhttps://opus.nlpl.eu/download.php?f=Tatoeba/v2021-07-22/moses/ar-en.txt.zip 27900 ready with name output_Tatoeba\\n'"
            ]
          },
          "metadata": {},
          "execution_count": 182
        }
      ]
    },
    {
      "cell_type": "code",
      "source": [
        "#!wget https://opus.nlpl.eu/download.php?f=Tanzil/v1/moses/ar-en.txt.zip\n"
      ],
      "metadata": {
        "colab": {
          "base_uri": "https://localhost:8080/"
        },
        "id": "nsMxDQQCJAwd",
        "outputId": "44919fba-e69b-4252-de74-ba6785cd72c2"
      },
      "execution_count": null,
      "outputs": [
        {
          "output_type": "stream",
          "name": "stdout",
          "text": [
            "--2022-02-28 22:03:58--  https://opus.nlpl.eu/download.php?f=Tanzil/v1/moses/ar-en.txt.zip\n",
            "Resolving opus.nlpl.eu (opus.nlpl.eu)... 193.166.25.9\n",
            "Connecting to opus.nlpl.eu (opus.nlpl.eu)|193.166.25.9|:443... connected.\n",
            "HTTP request sent, awaiting response... 302 Found\n",
            "Location: https://object.pouta.csc.fi/OPUS-Tanzil/v1/moses/ar-en.txt.zip [following]\n",
            "--2022-02-28 22:03:59--  https://object.pouta.csc.fi/OPUS-Tanzil/v1/moses/ar-en.txt.zip\n",
            "Resolving object.pouta.csc.fi (object.pouta.csc.fi)... 86.50.254.18, 86.50.254.19\n",
            "Connecting to object.pouta.csc.fi (object.pouta.csc.fi)|86.50.254.18|:443... connected.\n",
            "HTTP request sent, awaiting response... 200 OK\n",
            "Length: 25547090 (24M) [application/zip]\n",
            "Saving to: ‘download.php?f=Tanzil%2Fv1%2Fmoses%2Far-en.txt.zip’\n",
            "\n",
            "download.php?f=Tanz 100%[===================>]  24.36M  10.7MB/s    in 2.3s    \n",
            "\n",
            "2022-02-28 22:04:02 (10.7 MB/s) - ‘download.php?f=Tanzil%2Fv1%2Fmoses%2Far-en.txt.zip’ saved [25547090/25547090]\n",
            "\n"
          ]
        }
      ]
    },
    {
      "cell_type": "code",
      "source": [
        "#!unzip download.php?f=Tanzil%2Fv1%2Fmoses%2Far-en.txt.zip\n"
      ],
      "metadata": {
        "colab": {
          "base_uri": "https://localhost:8080/"
        },
        "id": "DnWsy8SbJK-w",
        "outputId": "cac44fb8-add0-4696-f08c-b23c29c1d9a7"
      },
      "execution_count": null,
      "outputs": [
        {
          "output_type": "stream",
          "name": "stdout",
          "text": [
            "Archive:  download.php?f=Tanzil%2Fv1%2Fmoses%2Far-en.txt.zip\n",
            "  inflating: Tanzil.ar-en.ar         \n",
            "  inflating: Tanzil.ar-en.en         \n",
            "  inflating: Tanzil.ar-en.ids        \n",
            "replace README? [y]es, [n]o, [A]ll, [N]one, [r]ename: "
          ]
        }
      ]
    },
    {
      "cell_type": "code",
      "source": [
        "ls"
      ],
      "metadata": {
        "colab": {
          "base_uri": "https://localhost:8080/"
        },
        "id": "tC7YDvRKi5kh",
        "outputId": "39849c16-8ee2-4907-c5ef-567f20fc954a"
      },
      "execution_count": null,
      "outputs": [
        {
          "output_type": "stream",
          "name": "stdout",
          "text": [
            " ara.txt\n",
            " checkpoint\n",
            "'Copy of Copy of Copy of inputImages.ipynb'\n",
            " \u001b[0m\u001b[01;34mdata\u001b[0m/\n",
            " decoder.h5\n",
            " decoder.h6.data-00000-of-00001\n",
            " decoder.h6.index\n",
            " decoder.h7.data-00000-of-00001\n",
            " decoder.h7.index\n",
            " decoder.h8.data-00000-of-00001\n",
            " decoder.h8.index\n",
            "'download.php?f=News-Commentary%2Fv16%2Fmoses%2Far-en.txt.zip'\n",
            "'download.php?f=Tanzil%2Fv1%2Fmoses%2Far-en.txt.zip'\n",
            " encoder.h5\n",
            " encoder.h6.data-00000-of-00001\n",
            " encoder.h6.index\n",
            " encoder.h7.data-00000-of-00001\n",
            " encoder.h7.index\n",
            " encoder.h8.data-00000-of-00001\n",
            " encoder.h8.index\n",
            "'KD homweork.ipynb'\n",
            "'monticarlo taxi.ipynb'\n",
            "'Our_code (1).ipynb'\n",
            " README\n",
            " session4_2021.ipynb\n",
            " Tanzil.ar-en.ar\n",
            " Tanzil.ar-en.en\n",
            " Tanzil.ar-en.ids\n",
            " Tatoeba.ar-en_ar.txt\n",
            " Tatoeba.ar-en_en.txt\n",
            " Tatoeba.ar-en.xml\n",
            " Tatoeba_output.txt\n",
            " taxi.ipynb\n",
            " taxi_problem-qlearning.ipynb\n",
            " \u001b[01;34mtraining_checkpoints\u001b[0m/\n",
            " Untitled\n",
            " Untitled0.ipynb\n",
            " Untitled10.ipynb\n",
            " Untitled11.ipynb\n",
            " Untitled12.ipynb\n",
            " Untitled13.ipynb\n",
            " Untitled14.ipynb\n",
            " Untitled1.ipynb\n",
            " Untitled2.ipynb\n",
            " Untitled3.ipynb\n",
            " Untitled4.ipynb\n",
            " Untitled5.ipynb\n",
            " Untitled6.ipynb\n",
            " Untitled7.ipynb\n",
            " Untitled8.ipynb\n",
            " Untitled9.ipynb\n",
            "'Untitled Diagram.drawio'\n",
            "'xml file.ipynb'\n"
          ]
        }
      ]
    },
    {
      "cell_type": "code",
      "source": [
        "import pandas as pd \n",
        "#https://www.geeksforgeeks.org/pandas-concat-function-in-python/\n",
        "\n",
        "#merg bilingul data in one file\n",
        "\n",
        "\n",
        "src_dat='Tatoeba.ar-en_ar.txt'\n",
        "trg_dat='Tatoeba.ar-en_en.txt'\n",
        "\n",
        "#src_dat='Tanzil.ar-en_ar.tZxt'\n",
        "#trg_dat='Tanzil.ar-en_en.txt'\n",
        "df1 = pd.read_csv(src_dat , sep='\\n')\n",
        "df2 = pd.read_csv(trg_dat , sep='\\n')\n",
        "df = pd.concat([df1,df2], axis=1,join=\"inner\",ignore_index=True)\n",
        "df.to_csv('Tatoeba_output.txt', sep='\\t',index=False, header=False)\n",
        "\n",
        "#https://pandas.pydata.org/docs/reference/api/pandas.DataFrame.to_csv.html\n",
        "#https://stackoverflow.com/questions/16923281/writing-a-pandas-dataframe-to-csv-file\n"
      ],
      "metadata": {
        "id": "7Ri0o8y3anCZ"
      },
      "execution_count": null,
      "outputs": []
    },
    {
      "cell_type": "code",
      "source": [
        "#display(df)\n"
      ],
      "metadata": {
        "id": "Up2iQpT2acRm"
      },
      "execution_count": null,
      "outputs": []
    },
    {
      "cell_type": "code",
      "source": [
        "#view the parallel data\n",
        "import pandas as pd \n",
        "data_path= 'ara.txt'\n",
        "lines_raw= pd.read_table(data_path,names=['source','target'])\n",
        "#print(len(lines_raw))\n",
        "#lines_raw.sample(50)\n",
        "lines_raw.head(50)\n"
      ],
      "metadata": {
        "colab": {
          "base_uri": "https://localhost:8080/",
          "height": 1000
        },
        "id": "4BlkedkKX-2B",
        "outputId": "22e98c5b-34de-4d9e-f9f0-f22a8b417312"
      },
      "execution_count": null,
      "outputs": [
        {
          "output_type": "execute_result",
          "data": {
            "text/html": [
              "\n",
              "  <div id=\"df-41a0ce0c-65ac-4126-8b4a-672d957de443\">\n",
              "    <div class=\"colab-df-container\">\n",
              "      <div>\n",
              "<style scoped>\n",
              "    .dataframe tbody tr th:only-of-type {\n",
              "        vertical-align: middle;\n",
              "    }\n",
              "\n",
              "    .dataframe tbody tr th {\n",
              "        vertical-align: top;\n",
              "    }\n",
              "\n",
              "    .dataframe thead th {\n",
              "        text-align: right;\n",
              "    }\n",
              "</style>\n",
              "<table border=\"1\" class=\"dataframe\">\n",
              "  <thead>\n",
              "    <tr style=\"text-align: right;\">\n",
              "      <th></th>\n",
              "      <th>source</th>\n",
              "      <th>target</th>\n",
              "    </tr>\n",
              "  </thead>\n",
              "  <tbody>\n",
              "    <tr>\n",
              "      <th>0</th>\n",
              "      <td>Hi.</td>\n",
              "      <td>مرحبًا.</td>\n",
              "    </tr>\n",
              "    <tr>\n",
              "      <th>1</th>\n",
              "      <td>Run!</td>\n",
              "      <td>اركض!</td>\n",
              "    </tr>\n",
              "    <tr>\n",
              "      <th>2</th>\n",
              "      <td>Help!</td>\n",
              "      <td>النجدة!</td>\n",
              "    </tr>\n",
              "    <tr>\n",
              "      <th>3</th>\n",
              "      <td>Jump!</td>\n",
              "      <td>اقفز!</td>\n",
              "    </tr>\n",
              "    <tr>\n",
              "      <th>4</th>\n",
              "      <td>Stop!</td>\n",
              "      <td>قف!</td>\n",
              "    </tr>\n",
              "    <tr>\n",
              "      <th>5</th>\n",
              "      <td>Go on.</td>\n",
              "      <td>داوم.</td>\n",
              "    </tr>\n",
              "    <tr>\n",
              "      <th>6</th>\n",
              "      <td>Go on.</td>\n",
              "      <td>استمر.</td>\n",
              "    </tr>\n",
              "    <tr>\n",
              "      <th>7</th>\n",
              "      <td>Hello!</td>\n",
              "      <td>مرحباً.</td>\n",
              "    </tr>\n",
              "    <tr>\n",
              "      <th>8</th>\n",
              "      <td>Hurry!</td>\n",
              "      <td>تعجّل!</td>\n",
              "    </tr>\n",
              "    <tr>\n",
              "      <th>9</th>\n",
              "      <td>Hurry!</td>\n",
              "      <td>استعجل!</td>\n",
              "    </tr>\n",
              "    <tr>\n",
              "      <th>10</th>\n",
              "      <td>I see.</td>\n",
              "      <td>انا اري</td>\n",
              "    </tr>\n",
              "    <tr>\n",
              "      <th>11</th>\n",
              "      <td>I won!</td>\n",
              "      <td>أنا فُزت!</td>\n",
              "    </tr>\n",
              "    <tr>\n",
              "      <th>12</th>\n",
              "      <td>Smile.</td>\n",
              "      <td>ابتسم.</td>\n",
              "    </tr>\n",
              "    <tr>\n",
              "      <th>13</th>\n",
              "      <td>Cheers!</td>\n",
              "      <td>في صحتك.</td>\n",
              "    </tr>\n",
              "    <tr>\n",
              "      <th>14</th>\n",
              "      <td>Got it?</td>\n",
              "      <td>هل فهمت؟</td>\n",
              "    </tr>\n",
              "    <tr>\n",
              "      <th>15</th>\n",
              "      <td>He ran.</td>\n",
              "      <td>ركض.</td>\n",
              "    </tr>\n",
              "    <tr>\n",
              "      <th>16</th>\n",
              "      <td>I know.</td>\n",
              "      <td>أعرف.</td>\n",
              "    </tr>\n",
              "    <tr>\n",
              "      <th>17</th>\n",
              "      <td>I know.</td>\n",
              "      <td>أعلم ذلك.</td>\n",
              "    </tr>\n",
              "    <tr>\n",
              "      <th>18</th>\n",
              "      <td>I know.</td>\n",
              "      <td>أنا أعلم</td>\n",
              "    </tr>\n",
              "    <tr>\n",
              "      <th>19</th>\n",
              "      <td>I'm 19.</td>\n",
              "      <td>أنا في 19</td>\n",
              "    </tr>\n",
              "    <tr>\n",
              "      <th>20</th>\n",
              "      <td>I'm OK.</td>\n",
              "      <td>أنا بخير.</td>\n",
              "    </tr>\n",
              "    <tr>\n",
              "      <th>21</th>\n",
              "      <td>Listen.</td>\n",
              "      <td>استمع</td>\n",
              "    </tr>\n",
              "    <tr>\n",
              "      <th>22</th>\n",
              "      <td>No way!</td>\n",
              "      <td>غير معقول!</td>\n",
              "    </tr>\n",
              "    <tr>\n",
              "      <th>23</th>\n",
              "      <td>Really?</td>\n",
              "      <td>حقاً؟</td>\n",
              "    </tr>\n",
              "    <tr>\n",
              "      <th>24</th>\n",
              "      <td>Why me?</td>\n",
              "      <td>لماذا أنا؟</td>\n",
              "    </tr>\n",
              "    <tr>\n",
              "      <th>25</th>\n",
              "      <td>Awesome!</td>\n",
              "      <td>رائع!</td>\n",
              "    </tr>\n",
              "    <tr>\n",
              "      <th>26</th>\n",
              "      <td>Call me.</td>\n",
              "      <td>هاتفني.</td>\n",
              "    </tr>\n",
              "    <tr>\n",
              "      <th>27</th>\n",
              "      <td>Call me.</td>\n",
              "      <td>اتصل بي.</td>\n",
              "    </tr>\n",
              "    <tr>\n",
              "      <th>28</th>\n",
              "      <td>Come in.</td>\n",
              "      <td>تفضل بالدخول.</td>\n",
              "    </tr>\n",
              "    <tr>\n",
              "      <th>29</th>\n",
              "      <td>Come in.</td>\n",
              "      <td>تعال إلى الداخل</td>\n",
              "    </tr>\n",
              "    <tr>\n",
              "      <th>30</th>\n",
              "      <td>Come on!</td>\n",
              "      <td>بالله عليك!</td>\n",
              "    </tr>\n",
              "    <tr>\n",
              "      <th>31</th>\n",
              "      <td>Come on!</td>\n",
              "      <td>هيا</td>\n",
              "    </tr>\n",
              "    <tr>\n",
              "      <th>32</th>\n",
              "      <td>Come on!</td>\n",
              "      <td>هيّا</td>\n",
              "    </tr>\n",
              "    <tr>\n",
              "      <th>33</th>\n",
              "      <td>Get out!</td>\n",
              "      <td>اخرج من هنا!</td>\n",
              "    </tr>\n",
              "    <tr>\n",
              "      <th>34</th>\n",
              "      <td>Get out!</td>\n",
              "      <td>أُخرج!</td>\n",
              "    </tr>\n",
              "    <tr>\n",
              "      <th>35</th>\n",
              "      <td>Get out.</td>\n",
              "      <td>اخرج!</td>\n",
              "    </tr>\n",
              "    <tr>\n",
              "      <th>36</th>\n",
              "      <td>Go away.</td>\n",
              "      <td>اتركني و شأني.</td>\n",
              "    </tr>\n",
              "    <tr>\n",
              "      <th>37</th>\n",
              "      <td>Go away.</td>\n",
              "      <td>اذهب بعيداً.</td>\n",
              "    </tr>\n",
              "    <tr>\n",
              "      <th>38</th>\n",
              "      <td>Go away.</td>\n",
              "      <td>ارحل.</td>\n",
              "    </tr>\n",
              "    <tr>\n",
              "      <th>39</th>\n",
              "      <td>Goodbye!</td>\n",
              "      <td>مع السلامة.</td>\n",
              "    </tr>\n",
              "    <tr>\n",
              "      <th>40</th>\n",
              "      <td>He came.</td>\n",
              "      <td>لقد أتى.</td>\n",
              "    </tr>\n",
              "    <tr>\n",
              "      <th>41</th>\n",
              "      <td>He runs.</td>\n",
              "      <td>هو يجري</td>\n",
              "    </tr>\n",
              "    <tr>\n",
              "      <th>42</th>\n",
              "      <td>Help me!</td>\n",
              "      <td>ساعدني!</td>\n",
              "    </tr>\n",
              "    <tr>\n",
              "      <th>43</th>\n",
              "      <td>Help me.</td>\n",
              "      <td>النجدة! ساعدني!</td>\n",
              "    </tr>\n",
              "    <tr>\n",
              "      <th>44</th>\n",
              "      <td>I'm sad.</td>\n",
              "      <td>أنا حزين.</td>\n",
              "    </tr>\n",
              "    <tr>\n",
              "      <th>45</th>\n",
              "      <td>Me, too.</td>\n",
              "      <td>أنا أيضاً.</td>\n",
              "    </tr>\n",
              "    <tr>\n",
              "      <th>46</th>\n",
              "      <td>Shut up!</td>\n",
              "      <td>اخرس!</td>\n",
              "    </tr>\n",
              "    <tr>\n",
              "      <th>47</th>\n",
              "      <td>Shut up!</td>\n",
              "      <td>اصمت!</td>\n",
              "    </tr>\n",
              "    <tr>\n",
              "      <th>48</th>\n",
              "      <td>Shut up!</td>\n",
              "      <td>اسكت!</td>\n",
              "    </tr>\n",
              "    <tr>\n",
              "      <th>49</th>\n",
              "      <td>Shut up!</td>\n",
              "      <td>أغلق فمك!</td>\n",
              "    </tr>\n",
              "  </tbody>\n",
              "</table>\n",
              "</div>\n",
              "      <button class=\"colab-df-convert\" onclick=\"convertToInteractive('df-41a0ce0c-65ac-4126-8b4a-672d957de443')\"\n",
              "              title=\"Convert this dataframe to an interactive table.\"\n",
              "              style=\"display:none;\">\n",
              "        \n",
              "  <svg xmlns=\"http://www.w3.org/2000/svg\" height=\"24px\"viewBox=\"0 0 24 24\"\n",
              "       width=\"24px\">\n",
              "    <path d=\"M0 0h24v24H0V0z\" fill=\"none\"/>\n",
              "    <path d=\"M18.56 5.44l.94 2.06.94-2.06 2.06-.94-2.06-.94-.94-2.06-.94 2.06-2.06.94zm-11 1L8.5 8.5l.94-2.06 2.06-.94-2.06-.94L8.5 2.5l-.94 2.06-2.06.94zm10 10l.94 2.06.94-2.06 2.06-.94-2.06-.94-.94-2.06-.94 2.06-2.06.94z\"/><path d=\"M17.41 7.96l-1.37-1.37c-.4-.4-.92-.59-1.43-.59-.52 0-1.04.2-1.43.59L10.3 9.45l-7.72 7.72c-.78.78-.78 2.05 0 2.83L4 21.41c.39.39.9.59 1.41.59.51 0 1.02-.2 1.41-.59l7.78-7.78 2.81-2.81c.8-.78.8-2.07 0-2.86zM5.41 20L4 18.59l7.72-7.72 1.47 1.35L5.41 20z\"/>\n",
              "  </svg>\n",
              "      </button>\n",
              "      \n",
              "  <style>\n",
              "    .colab-df-container {\n",
              "      display:flex;\n",
              "      flex-wrap:wrap;\n",
              "      gap: 12px;\n",
              "    }\n",
              "\n",
              "    .colab-df-convert {\n",
              "      background-color: #E8F0FE;\n",
              "      border: none;\n",
              "      border-radius: 50%;\n",
              "      cursor: pointer;\n",
              "      display: none;\n",
              "      fill: #1967D2;\n",
              "      height: 32px;\n",
              "      padding: 0 0 0 0;\n",
              "      width: 32px;\n",
              "    }\n",
              "\n",
              "    .colab-df-convert:hover {\n",
              "      background-color: #E2EBFA;\n",
              "      box-shadow: 0px 1px 2px rgba(60, 64, 67, 0.3), 0px 1px 3px 1px rgba(60, 64, 67, 0.15);\n",
              "      fill: #174EA6;\n",
              "    }\n",
              "\n",
              "    [theme=dark] .colab-df-convert {\n",
              "      background-color: #3B4455;\n",
              "      fill: #D2E3FC;\n",
              "    }\n",
              "\n",
              "    [theme=dark] .colab-df-convert:hover {\n",
              "      background-color: #434B5C;\n",
              "      box-shadow: 0px 1px 3px 1px rgba(0, 0, 0, 0.15);\n",
              "      filter: drop-shadow(0px 1px 2px rgba(0, 0, 0, 0.3));\n",
              "      fill: #FFFFFF;\n",
              "    }\n",
              "  </style>\n",
              "\n",
              "      <script>\n",
              "        const buttonEl =\n",
              "          document.querySelector('#df-41a0ce0c-65ac-4126-8b4a-672d957de443 button.colab-df-convert');\n",
              "        buttonEl.style.display =\n",
              "          google.colab.kernel.accessAllowed ? 'block' : 'none';\n",
              "\n",
              "        async function convertToInteractive(key) {\n",
              "          const element = document.querySelector('#df-41a0ce0c-65ac-4126-8b4a-672d957de443');\n",
              "          const dataTable =\n",
              "            await google.colab.kernel.invokeFunction('convertToInteractive',\n",
              "                                                     [key], {});\n",
              "          if (!dataTable) return;\n",
              "\n",
              "          const docLinkHtml = 'Like what you see? Visit the ' +\n",
              "            '<a target=\"_blank\" href=https://colab.research.google.com/notebooks/data_table.ipynb>data table notebook</a>'\n",
              "            + ' to learn more about interactive tables.';\n",
              "          element.innerHTML = '';\n",
              "          dataTable['output_type'] = 'display_data';\n",
              "          await google.colab.output.renderOutput(dataTable, element);\n",
              "          const docLink = document.createElement('div');\n",
              "          docLink.innerHTML = docLinkHtml;\n",
              "          element.appendChild(docLink);\n",
              "        }\n",
              "      </script>\n",
              "    </div>\n",
              "  </div>\n",
              "  "
            ],
            "text/plain": [
              "      source           target\n",
              "0        Hi.          مرحبًا.\n",
              "1       Run!            اركض!\n",
              "2      Help!          النجدة!\n",
              "3      Jump!            اقفز!\n",
              "4      Stop!              قف!\n",
              "5     Go on.            داوم.\n",
              "6     Go on.           استمر.\n",
              "7     Hello!          مرحباً.\n",
              "8     Hurry!           تعجّل!\n",
              "9     Hurry!          استعجل!\n",
              "10    I see.          انا اري\n",
              "11    I won!        أنا فُزت!\n",
              "12    Smile.           ابتسم.\n",
              "13   Cheers!         في صحتك.\n",
              "14   Got it?         هل فهمت؟\n",
              "15   He ran.             ركض.\n",
              "16   I know.            أعرف.\n",
              "17   I know.        أعلم ذلك.\n",
              "18   I know.         أنا أعلم\n",
              "19   I'm 19.        أنا في 19\n",
              "20   I'm OK.        أنا بخير.\n",
              "21   Listen.            استمع\n",
              "22   No way!       غير معقول!\n",
              "23   Really?            حقاً؟\n",
              "24   Why me?       لماذا أنا؟\n",
              "25  Awesome!            رائع!\n",
              "26  Call me.          هاتفني.\n",
              "27  Call me.         اتصل بي.\n",
              "28  Come in.    تفضل بالدخول.\n",
              "29  Come in.  تعال إلى الداخل\n",
              "30  Come on!      بالله عليك!\n",
              "31  Come on!              هيا\n",
              "32  Come on!             هيّا\n",
              "33  Get out!     اخرج من هنا!\n",
              "34  Get out!           أُخرج!\n",
              "35  Get out.            اخرج!\n",
              "36  Go away.   اتركني و شأني.\n",
              "37  Go away.     اذهب بعيداً.\n",
              "38  Go away.            ارحل.\n",
              "39  Goodbye!      مع السلامة.\n",
              "40  He came.         لقد أتى.\n",
              "41  He runs.          هو يجري\n",
              "42  Help me!          ساعدني!\n",
              "43  Help me.  النجدة! ساعدني!\n",
              "44  I'm sad.        أنا حزين.\n",
              "45  Me, too.       أنا أيضاً.\n",
              "46  Shut up!            اخرس!\n",
              "47  Shut up!            اصمت!\n",
              "48  Shut up!            اسكت!\n",
              "49  Shut up!        أغلق فمك!"
            ]
          },
          "metadata": {},
          "execution_count": 298
        }
      ]
    },
    {
      "cell_type": "code",
      "source": [
        "#display(lines_raw)\n"
      ],
      "metadata": {
        "id": "rdZjpjeMGavc"
      },
      "execution_count": null,
      "outputs": []
    },
    {
      "cell_type": "code",
      "source": [
        "print(lines_raw.loc[27898].at['target']\t)\n",
        "print(lines_raw.loc[27898\t].at['source']\t)\n",
        "print()\n",
        "print(lines_raw.loc[1000\t\t].at['target']\t)\n",
        "print(lines_raw.loc[1000\t\t].at['source']\t)\n",
        "#151747"
      ],
      "metadata": {
        "colab": {
          "base_uri": "https://localhost:8080/",
          "height": 467
        },
        "id": "wolnPuXV1Zhh",
        "outputId": "22ffd64d-9c3b-499e-ac25-97a8dddad1f7"
      },
      "execution_count": null,
      "outputs": [
        {
          "output_type": "error",
          "ename": "KeyError",
          "evalue": "ignored",
          "traceback": [
            "\u001b[0;31m---------------------------------------------------------------------------\u001b[0m",
            "\u001b[0;31mValueError\u001b[0m                                Traceback (most recent call last)",
            "\u001b[0;32m/usr/local/lib/python3.7/dist-packages/pandas/core/indexes/range.py\u001b[0m in \u001b[0;36mget_loc\u001b[0;34m(self, key, method, tolerance)\u001b[0m\n\u001b[1;32m    384\u001b[0m                 \u001b[0;32mtry\u001b[0m\u001b[0;34m:\u001b[0m\u001b[0;34m\u001b[0m\u001b[0;34m\u001b[0m\u001b[0m\n\u001b[0;32m--> 385\u001b[0;31m                     \u001b[0;32mreturn\u001b[0m \u001b[0mself\u001b[0m\u001b[0;34m.\u001b[0m\u001b[0m_range\u001b[0m\u001b[0;34m.\u001b[0m\u001b[0mindex\u001b[0m\u001b[0;34m(\u001b[0m\u001b[0mnew_key\u001b[0m\u001b[0;34m)\u001b[0m\u001b[0;34m\u001b[0m\u001b[0;34m\u001b[0m\u001b[0m\n\u001b[0m\u001b[1;32m    386\u001b[0m                 \u001b[0;32mexcept\u001b[0m \u001b[0mValueError\u001b[0m \u001b[0;32mas\u001b[0m \u001b[0merr\u001b[0m\u001b[0;34m:\u001b[0m\u001b[0;34m\u001b[0m\u001b[0;34m\u001b[0m\u001b[0m\n",
            "\u001b[0;31mValueError\u001b[0m: 27898 is not in range",
            "\nThe above exception was the direct cause of the following exception:\n",
            "\u001b[0;31mKeyError\u001b[0m                                  Traceback (most recent call last)",
            "\u001b[0;32m<ipython-input-188-e431195f96c9>\u001b[0m in \u001b[0;36m<module>\u001b[0;34m()\u001b[0m\n\u001b[0;32m----> 1\u001b[0;31m \u001b[0mprint\u001b[0m\u001b[0;34m(\u001b[0m\u001b[0mlines_raw\u001b[0m\u001b[0;34m.\u001b[0m\u001b[0mloc\u001b[0m\u001b[0;34m[\u001b[0m\u001b[0;36m27898\u001b[0m\u001b[0;34m]\u001b[0m\u001b[0;34m.\u001b[0m\u001b[0mat\u001b[0m\u001b[0;34m[\u001b[0m\u001b[0;34m'target'\u001b[0m\u001b[0;34m]\u001b[0m \u001b[0;34m)\u001b[0m\u001b[0;34m\u001b[0m\u001b[0;34m\u001b[0m\u001b[0m\n\u001b[0m\u001b[1;32m      2\u001b[0m \u001b[0mprint\u001b[0m\u001b[0;34m(\u001b[0m\u001b[0mlines_raw\u001b[0m\u001b[0;34m.\u001b[0m\u001b[0mloc\u001b[0m\u001b[0;34m[\u001b[0m\u001b[0;36m27898\u001b[0m       \u001b[0;34m]\u001b[0m\u001b[0;34m.\u001b[0m\u001b[0mat\u001b[0m\u001b[0;34m[\u001b[0m\u001b[0;34m'source'\u001b[0m\u001b[0;34m]\u001b[0m  \u001b[0;34m)\u001b[0m\u001b[0;34m\u001b[0m\u001b[0;34m\u001b[0m\u001b[0m\n\u001b[1;32m      3\u001b[0m \u001b[0mprint\u001b[0m\u001b[0;34m(\u001b[0m\u001b[0;34m)\u001b[0m\u001b[0;34m\u001b[0m\u001b[0;34m\u001b[0m\u001b[0m\n\u001b[1;32m      4\u001b[0m \u001b[0mprint\u001b[0m\u001b[0;34m(\u001b[0m\u001b[0mlines_raw\u001b[0m\u001b[0;34m.\u001b[0m\u001b[0mloc\u001b[0m\u001b[0;34m[\u001b[0m\u001b[0;36m1000\u001b[0m                \u001b[0;34m]\u001b[0m\u001b[0;34m.\u001b[0m\u001b[0mat\u001b[0m\u001b[0;34m[\u001b[0m\u001b[0;34m'target'\u001b[0m\u001b[0;34m]\u001b[0m  \u001b[0;34m)\u001b[0m\u001b[0;34m\u001b[0m\u001b[0;34m\u001b[0m\u001b[0m\n\u001b[1;32m      5\u001b[0m \u001b[0mprint\u001b[0m\u001b[0;34m(\u001b[0m\u001b[0mlines_raw\u001b[0m\u001b[0;34m.\u001b[0m\u001b[0mloc\u001b[0m\u001b[0;34m[\u001b[0m\u001b[0;36m1000\u001b[0m                \u001b[0;34m]\u001b[0m\u001b[0;34m.\u001b[0m\u001b[0mat\u001b[0m\u001b[0;34m[\u001b[0m\u001b[0;34m'source'\u001b[0m\u001b[0;34m]\u001b[0m  \u001b[0;34m)\u001b[0m\u001b[0;34m\u001b[0m\u001b[0;34m\u001b[0m\u001b[0m\n",
            "\u001b[0;32m/usr/local/lib/python3.7/dist-packages/pandas/core/indexing.py\u001b[0m in \u001b[0;36m__getitem__\u001b[0;34m(self, key)\u001b[0m\n\u001b[1;32m    929\u001b[0m \u001b[0;34m\u001b[0m\u001b[0m\n\u001b[1;32m    930\u001b[0m             \u001b[0mmaybe_callable\u001b[0m \u001b[0;34m=\u001b[0m \u001b[0mcom\u001b[0m\u001b[0;34m.\u001b[0m\u001b[0mapply_if_callable\u001b[0m\u001b[0;34m(\u001b[0m\u001b[0mkey\u001b[0m\u001b[0;34m,\u001b[0m \u001b[0mself\u001b[0m\u001b[0;34m.\u001b[0m\u001b[0mobj\u001b[0m\u001b[0;34m)\u001b[0m\u001b[0;34m\u001b[0m\u001b[0;34m\u001b[0m\u001b[0m\n\u001b[0;32m--> 931\u001b[0;31m             \u001b[0;32mreturn\u001b[0m \u001b[0mself\u001b[0m\u001b[0;34m.\u001b[0m\u001b[0m_getitem_axis\u001b[0m\u001b[0;34m(\u001b[0m\u001b[0mmaybe_callable\u001b[0m\u001b[0;34m,\u001b[0m \u001b[0maxis\u001b[0m\u001b[0;34m=\u001b[0m\u001b[0maxis\u001b[0m\u001b[0;34m)\u001b[0m\u001b[0;34m\u001b[0m\u001b[0;34m\u001b[0m\u001b[0m\n\u001b[0m\u001b[1;32m    932\u001b[0m \u001b[0;34m\u001b[0m\u001b[0m\n\u001b[1;32m    933\u001b[0m     \u001b[0;32mdef\u001b[0m \u001b[0m_is_scalar_access\u001b[0m\u001b[0;34m(\u001b[0m\u001b[0mself\u001b[0m\u001b[0;34m,\u001b[0m \u001b[0mkey\u001b[0m\u001b[0;34m:\u001b[0m \u001b[0mtuple\u001b[0m\u001b[0;34m)\u001b[0m\u001b[0;34m:\u001b[0m\u001b[0;34m\u001b[0m\u001b[0;34m\u001b[0m\u001b[0m\n",
            "\u001b[0;32m/usr/local/lib/python3.7/dist-packages/pandas/core/indexing.py\u001b[0m in \u001b[0;36m_getitem_axis\u001b[0;34m(self, key, axis)\u001b[0m\n\u001b[1;32m   1162\u001b[0m         \u001b[0;31m# fall thru to straight lookup\u001b[0m\u001b[0;34m\u001b[0m\u001b[0;34m\u001b[0m\u001b[0;34m\u001b[0m\u001b[0m\n\u001b[1;32m   1163\u001b[0m         \u001b[0mself\u001b[0m\u001b[0;34m.\u001b[0m\u001b[0m_validate_key\u001b[0m\u001b[0;34m(\u001b[0m\u001b[0mkey\u001b[0m\u001b[0;34m,\u001b[0m \u001b[0maxis\u001b[0m\u001b[0;34m)\u001b[0m\u001b[0;34m\u001b[0m\u001b[0;34m\u001b[0m\u001b[0m\n\u001b[0;32m-> 1164\u001b[0;31m         \u001b[0;32mreturn\u001b[0m \u001b[0mself\u001b[0m\u001b[0;34m.\u001b[0m\u001b[0m_get_label\u001b[0m\u001b[0;34m(\u001b[0m\u001b[0mkey\u001b[0m\u001b[0;34m,\u001b[0m \u001b[0maxis\u001b[0m\u001b[0;34m=\u001b[0m\u001b[0maxis\u001b[0m\u001b[0;34m)\u001b[0m\u001b[0;34m\u001b[0m\u001b[0;34m\u001b[0m\u001b[0m\n\u001b[0m\u001b[1;32m   1165\u001b[0m \u001b[0;34m\u001b[0m\u001b[0m\n\u001b[1;32m   1166\u001b[0m     \u001b[0;32mdef\u001b[0m \u001b[0m_get_slice_axis\u001b[0m\u001b[0;34m(\u001b[0m\u001b[0mself\u001b[0m\u001b[0;34m,\u001b[0m \u001b[0mslice_obj\u001b[0m\u001b[0;34m:\u001b[0m \u001b[0mslice\u001b[0m\u001b[0;34m,\u001b[0m \u001b[0maxis\u001b[0m\u001b[0;34m:\u001b[0m \u001b[0mint\u001b[0m\u001b[0;34m)\u001b[0m\u001b[0;34m:\u001b[0m\u001b[0;34m\u001b[0m\u001b[0;34m\u001b[0m\u001b[0m\n",
            "\u001b[0;32m/usr/local/lib/python3.7/dist-packages/pandas/core/indexing.py\u001b[0m in \u001b[0;36m_get_label\u001b[0;34m(self, label, axis)\u001b[0m\n\u001b[1;32m   1111\u001b[0m     \u001b[0;32mdef\u001b[0m \u001b[0m_get_label\u001b[0m\u001b[0;34m(\u001b[0m\u001b[0mself\u001b[0m\u001b[0;34m,\u001b[0m \u001b[0mlabel\u001b[0m\u001b[0;34m,\u001b[0m \u001b[0maxis\u001b[0m\u001b[0;34m:\u001b[0m \u001b[0mint\u001b[0m\u001b[0;34m)\u001b[0m\u001b[0;34m:\u001b[0m\u001b[0;34m\u001b[0m\u001b[0;34m\u001b[0m\u001b[0m\n\u001b[1;32m   1112\u001b[0m         \u001b[0;31m# GH#5667 this will fail if the label is not present in the axis.\u001b[0m\u001b[0;34m\u001b[0m\u001b[0;34m\u001b[0m\u001b[0;34m\u001b[0m\u001b[0m\n\u001b[0;32m-> 1113\u001b[0;31m         \u001b[0;32mreturn\u001b[0m \u001b[0mself\u001b[0m\u001b[0;34m.\u001b[0m\u001b[0mobj\u001b[0m\u001b[0;34m.\u001b[0m\u001b[0mxs\u001b[0m\u001b[0;34m(\u001b[0m\u001b[0mlabel\u001b[0m\u001b[0;34m,\u001b[0m \u001b[0maxis\u001b[0m\u001b[0;34m=\u001b[0m\u001b[0maxis\u001b[0m\u001b[0;34m)\u001b[0m\u001b[0;34m\u001b[0m\u001b[0;34m\u001b[0m\u001b[0m\n\u001b[0m\u001b[1;32m   1114\u001b[0m \u001b[0;34m\u001b[0m\u001b[0m\n\u001b[1;32m   1115\u001b[0m     \u001b[0;32mdef\u001b[0m \u001b[0m_handle_lowerdim_multi_index_axis0\u001b[0m\u001b[0;34m(\u001b[0m\u001b[0mself\u001b[0m\u001b[0;34m,\u001b[0m \u001b[0mtup\u001b[0m\u001b[0;34m:\u001b[0m \u001b[0mtuple\u001b[0m\u001b[0;34m)\u001b[0m\u001b[0;34m:\u001b[0m\u001b[0;34m\u001b[0m\u001b[0;34m\u001b[0m\u001b[0m\n",
            "\u001b[0;32m/usr/local/lib/python3.7/dist-packages/pandas/core/generic.py\u001b[0m in \u001b[0;36mxs\u001b[0;34m(self, key, axis, level, drop_level)\u001b[0m\n\u001b[1;32m   3774\u001b[0m                 \u001b[0;32mraise\u001b[0m \u001b[0mTypeError\u001b[0m\u001b[0;34m(\u001b[0m\u001b[0;34mf\"Expected label or tuple of labels, got {key}\"\u001b[0m\u001b[0;34m)\u001b[0m \u001b[0;32mfrom\u001b[0m \u001b[0me\u001b[0m\u001b[0;34m\u001b[0m\u001b[0;34m\u001b[0m\u001b[0m\n\u001b[1;32m   3775\u001b[0m         \u001b[0;32melse\u001b[0m\u001b[0;34m:\u001b[0m\u001b[0;34m\u001b[0m\u001b[0;34m\u001b[0m\u001b[0m\n\u001b[0;32m-> 3776\u001b[0;31m             \u001b[0mloc\u001b[0m \u001b[0;34m=\u001b[0m \u001b[0mindex\u001b[0m\u001b[0;34m.\u001b[0m\u001b[0mget_loc\u001b[0m\u001b[0;34m(\u001b[0m\u001b[0mkey\u001b[0m\u001b[0;34m)\u001b[0m\u001b[0;34m\u001b[0m\u001b[0;34m\u001b[0m\u001b[0m\n\u001b[0m\u001b[1;32m   3777\u001b[0m \u001b[0;34m\u001b[0m\u001b[0m\n\u001b[1;32m   3778\u001b[0m             \u001b[0;32mif\u001b[0m \u001b[0misinstance\u001b[0m\u001b[0;34m(\u001b[0m\u001b[0mloc\u001b[0m\u001b[0;34m,\u001b[0m \u001b[0mnp\u001b[0m\u001b[0;34m.\u001b[0m\u001b[0mndarray\u001b[0m\u001b[0;34m)\u001b[0m\u001b[0;34m:\u001b[0m\u001b[0;34m\u001b[0m\u001b[0;34m\u001b[0m\u001b[0m\n",
            "\u001b[0;32m/usr/local/lib/python3.7/dist-packages/pandas/core/indexes/range.py\u001b[0m in \u001b[0;36mget_loc\u001b[0;34m(self, key, method, tolerance)\u001b[0m\n\u001b[1;32m    385\u001b[0m                     \u001b[0;32mreturn\u001b[0m \u001b[0mself\u001b[0m\u001b[0;34m.\u001b[0m\u001b[0m_range\u001b[0m\u001b[0;34m.\u001b[0m\u001b[0mindex\u001b[0m\u001b[0;34m(\u001b[0m\u001b[0mnew_key\u001b[0m\u001b[0;34m)\u001b[0m\u001b[0;34m\u001b[0m\u001b[0;34m\u001b[0m\u001b[0m\n\u001b[1;32m    386\u001b[0m                 \u001b[0;32mexcept\u001b[0m \u001b[0mValueError\u001b[0m \u001b[0;32mas\u001b[0m \u001b[0merr\u001b[0m\u001b[0;34m:\u001b[0m\u001b[0;34m\u001b[0m\u001b[0;34m\u001b[0m\u001b[0m\n\u001b[0;32m--> 387\u001b[0;31m                     \u001b[0;32mraise\u001b[0m \u001b[0mKeyError\u001b[0m\u001b[0;34m(\u001b[0m\u001b[0mkey\u001b[0m\u001b[0;34m)\u001b[0m \u001b[0;32mfrom\u001b[0m \u001b[0merr\u001b[0m\u001b[0;34m\u001b[0m\u001b[0;34m\u001b[0m\u001b[0m\n\u001b[0m\u001b[1;32m    388\u001b[0m             \u001b[0;32mraise\u001b[0m \u001b[0mKeyError\u001b[0m\u001b[0;34m(\u001b[0m\u001b[0mkey\u001b[0m\u001b[0;34m)\u001b[0m\u001b[0;34m\u001b[0m\u001b[0;34m\u001b[0m\u001b[0m\n\u001b[1;32m    389\u001b[0m         \u001b[0;32mreturn\u001b[0m \u001b[0msuper\u001b[0m\u001b[0;34m(\u001b[0m\u001b[0;34m)\u001b[0m\u001b[0;34m.\u001b[0m\u001b[0mget_loc\u001b[0m\u001b[0;34m(\u001b[0m\u001b[0mkey\u001b[0m\u001b[0;34m,\u001b[0m \u001b[0mmethod\u001b[0m\u001b[0;34m=\u001b[0m\u001b[0mmethod\u001b[0m\u001b[0;34m,\u001b[0m \u001b[0mtolerance\u001b[0m\u001b[0;34m=\u001b[0m\u001b[0mtolerance\u001b[0m\u001b[0;34m)\u001b[0m\u001b[0;34m\u001b[0m\u001b[0;34m\u001b[0m\u001b[0m\n",
            "\u001b[0;31mKeyError\u001b[0m: 27898"
          ]
        }
      ]
    },
    {
      "cell_type": "code",
      "metadata": {
        "id": "rd0jw-eC3jEh"
      },
      "source": [
        "def unicode_to_ascii(s):\n",
        "    return ''.join(c for c in unicodedata.normalize('NFD', s) if unicodedata.category(c) != 'Mn')\n",
        "\n",
        "\n",
        "\n",
        "def Prepare_clean_sentence(sentence):     #preprocessing\n",
        " \n",
        " # data word processing :  single sentence src or tr => Single clean and ready sentence \n",
        "\n",
        "    sentence=  unicode_to_ascii(sentence.lower().strip())\n",
        "    sentence = re.sub(r\"([?.!,¿])\", r\" \\1 \", sentence)\n",
        "    sentence = re.sub(r'[\" \"]+', \" \", sentence)\n",
        "    sentence = re.sub(r\"[^a-zA-Z؀-ۿ?.!,¿]+\", \" \", sentence)\n",
        "    sentence = sentence.rstrip().strip()  \n",
        "    sentence=  '<start> ' + sentence + ' <end>'\n",
        "    \n",
        "    return sentence\n"
      ],
      "execution_count": null,
      "outputs": []
    },
    {
      "cell_type": "code",
      "source": [
        "en_sentence = u\"He will hire someone who speaks English.\t\"\n",
        "ar_sentence = u\" سيوظف شخصا يتحدث الإنجليزية .\"\n",
        "print(Prepare_clean_sentence(en_sentence))\n",
        "print(Prepare_clean_sentence(ar_sentence))\n"
      ],
      "metadata": {
        "colab": {
          "base_uri": "https://localhost:8080/"
        },
        "id": "_3WL0IDV1Oej",
        "outputId": "43d49722-45a3-4869-ce2c-f7c49c13bfc0"
      },
      "execution_count": null,
      "outputs": [
        {
          "output_type": "stream",
          "name": "stdout",
          "text": [
            "<start> he will hire someone who speaks english . <end>\n",
            "<start> سيوظف شخصا يتحدث الانجليزية . <end>\n"
          ]
        }
      ]
    },
    {
      "cell_type": "code",
      "metadata": {
        "id": "OHn4Dct23jEm"
      },
      "source": [
        "def Read_and_Preprocess_dataset(data_path, num_samples):\n",
        "\n",
        "   # start reading data and clear it and return pairs of sentences (src_Arabic_sentences, tar_English_sentences )\n",
        "\n",
        "    lines = open(data_path, encoding='UTF-8-sig').read().strip().split('\\n')   #utf-8-sig for Arabic sentences\n",
        "    word_pairs= [[Prepare_clean_sentence (sentence) for sentence in line.split('\\t')]  for line in lines[:num_samples]]\n",
        "    print(len(lines))\n",
        "   \n",
        "    return zip(*word_pairs)\n",
        "\n",
        "    \n",
        "    #https://www.w3schools.com/python/ref_func_zip.asp\n"
      ],
      "execution_count": null,
      "outputs": []
    },
    {
      "cell_type": "code",
      "source": [
        "# previously was display and see data\n",
        "#here we really start\n",
        "sample_size=60000\n",
        "data_path= ''Tatoeba_output.txt''\n",
        "target, source = Read_and_Preprocess_dataset(data_path, None)\n",
        "print(source[-1])\n",
        "print(target[-1])\n",
        "type(target)"
      ],
      "metadata": {
        "colab": {
          "base_uri": "https://localhost:8080/"
        },
        "id": "Y4b8cixPLrT-",
        "outputId": "c1bcc68a-6455-40b5-fb5c-859bb0f0382a"
      },
      "execution_count": null,
      "outputs": [
        {
          "output_type": "stream",
          "name": "stdout",
          "text": [
            "27899\n",
            "<start> tom sent mary to boston . <end>\n",
            "<start> توم ارسل ماري الى بوسطن . <end>\n"
          ]
        },
        {
          "output_type": "execute_result",
          "data": {
            "text/plain": [
              "tuple"
            ]
          },
          "metadata": {},
          "execution_count": 192
        }
      ]
    },
    {
      "cell_type": "code",
      "source": [
        "def tokenize(lang):\n",
        "\n",
        "  # \" tokens\"\n",
        "  \n",
        "    lang_tokenizer = tf.keras.preprocessing.text.Tokenizer(filters='')\n",
        "    lang_tokenizer.fit_on_texts(lang)\n",
        "    tensor = lang_tokenizer.texts_to_sequences(lang)\n",
        "    tensor = tf.keras.preprocessing.sequence.pad_sequences(tensor,padding='post')\n",
        "    \n",
        "    return tensor, lang_tokenizer\n",
        "\n",
        "\n",
        "#print(len(tensor[0]))\n",
        "#print(lang_tokenizer.word_counts)\n",
        "#print(lang_tokenizer.document_count)\n",
        "#print(lang_tokenizer.word_index)\n",
        "#print(lang_tokenizer.word_docs)\n",
        "#print(lang_tokenizer.index_word)\n",
        "\n",
        "#https://machinelearningmastery.com/prepare-text-data-deep-learning-keras/\n"
      ],
      "metadata": {
        "id": "Sa9DC0b5LH3K"
      },
      "execution_count": null,
      "outputs": []
    },
    {
      "cell_type": "code",
      "source": [
        "def load_dataset(data_path, num_samples=None):\n",
        "\n",
        "    # start the Preprocess data task => ready data to process\n",
        "  \n",
        "    input_src_lang , output_targ_lang = Read_and_Preprocess_dataset(data_path , num_samples)\n",
        "\n",
        "    input_tensor, inp_lang_tokenizer = tokenize(input_src_lang)\n",
        "    target_tensor, targ_lang_tokenizer = tokenize(output_targ_lang)\n",
        "\n",
        "    return input_tensor, target_tensor, inp_lang_tokenizer, targ_lang_tokenizer"
      ],
      "metadata": {
        "id": "06BE-I7xLJk1"
      },
      "execution_count": null,
      "outputs": []
    },
    {
      "cell_type": "code",
      "source": [
        "sample_size=10800\n",
        "data_path='ara.txt'\n",
        "(input_tensor ,target_tensor, inp_lang , targ_lang ) = load_dataset(data_path , sample_size)\n",
        "\n",
        "# Calculate max_length of the target tensors\n",
        "max_length_targ, max_length_inp = target_tensor.shape[1], input_tensor.shape[1]\n",
        "'''\n",
        "max_target_length= max(len(t) for t in  target_tensor)\n",
        "print(max_target_length)\n",
        "max_source_length= max(len(t) for t in  source_tensor)\n",
        "print(max_source_length)\n",
        "'''\n"
      ],
      "metadata": {
        "colab": {
          "base_uri": "https://localhost:8080/",
          "height": 70
        },
        "id": "_ll_mDPi38mR",
        "outputId": "41311cfb-1b3b-48f8-d450-df9493af9dcc"
      },
      "execution_count": null,
      "outputs": [
        {
          "output_type": "stream",
          "name": "stdout",
          "text": [
            "10742\n"
          ]
        },
        {
          "output_type": "execute_result",
          "data": {
            "application/vnd.google.colaboratory.intrinsic+json": {
              "type": "string"
            },
            "text/plain": [
              "'\\nmax_target_length= max(len(t) for t in  target_tensor)\\nprint(max_target_length)\\nmax_source_length= max(len(t) for t in  source_tensor)\\nprint(max_source_length)\\n'"
            ]
          },
          "metadata": {},
          "execution_count": 15
        }
      ]
    },
    {
      "cell_type": "code",
      "source": [
        "#print(lang_tokenizer.index_word)\n",
        "print(f'[INFO] Max length of target: {max_length_targ}')\n",
        "print(f'[INFO] Max length of input: {max_length_inp}')"
      ],
      "metadata": {
        "colab": {
          "base_uri": "https://localhost:8080/"
        },
        "id": "k0-ZGgS0Ndw8",
        "outputId": "edb9f1a8-0d9e-49cd-fe10-08cb083872b4"
      },
      "execution_count": null,
      "outputs": [
        {
          "output_type": "stream",
          "name": "stdout",
          "text": [
            "[INFO] Max length of target: 39\n",
            "[INFO] Max length of input: 42\n"
          ]
        }
      ]
    },
    {
      "cell_type": "code",
      "source": [
        "#http://scikit-learn.org/stable/modules/generated/sklearn.model_selection.train_test_split.html\n",
        "\n",
        "# Creating training and validation sets using an 80-20 split\n",
        "(input_tensor_train,input_tensor_val,target_tensor_train,target_tensor_val) = train_test_split(input_tensor,target_tensor,test_size=0.20)\n",
        "(input_tensor_val,input_tensor_test,target_tensor_val,target_tensor_test) = train_test_split(input_tensor_val,target_tensor_val,test_size=0.50)\n",
        "\n",
        "# Show length\n",
        "#print(len(input_tensor_train), len(target_tensor_train), len(input_tensor_val), len(target_tensor_val))\n",
        "print(f'[INFO] Input_Train: {input_tensor_train.shape} Target_Train: {target_tensor_train.shape}')\n",
        "print(f'[INFO] Input_Val: {input_tensor_val.shape} Target_Val: {target_tensor_val.shape}')\n",
        "print(f'[INFO] Input_Test: {input_tensor_test.shape} Target_Test: {target_tensor_test.shape}')"
      ],
      "metadata": {
        "colab": {
          "base_uri": "https://localhost:8080/"
        },
        "id": "XeraEeF58o2B",
        "outputId": "ed9ef30a-ffa2-4b5e-8611-460037449f01"
      },
      "execution_count": null,
      "outputs": [
        {
          "output_type": "stream",
          "name": "stdout",
          "text": [
            "[INFO] Input_Train: (8593, 42) Target_Train: (8593, 39)\n",
            "[INFO] Input_Val: (1074, 42) Target_Val: (1074, 39)\n",
            "[INFO] Input_Test: (1075, 42) Target_Test: (1075, 39)\n"
          ]
        }
      ]
    },
    {
      "cell_type": "markdown",
      "source": [
        "The “training” data set is the general term for the samples used to create the model, while the “test” or “validation” data set is used to qualify performance.\n",
        "\n",
        " Training set: A set of examples used for learning, that is to fit the parameters of the classifier.\n",
        "\n",
        "– Validation set: A set of examples used to tune the parameters of a classifier, for example to choose the number of hidden units in a neural network.\n",
        "\n",
        "– Test set: A set of examples used only to assess the performance of a fully-specified classifier.\n",
        "\n",
        "https://www.youtube.com/watch?v=Zi-0rlM4RDs\n",
        "https://www.v7labs.com/blog/train-validation-test-set\n"
      ],
      "metadata": {
        "id": "6foMHaqJTFNV"
      }
    },
    {
      "cell_type": "code",
      "source": [
        "def convert(lang, tensor):\n",
        "  for t in tensor:\n",
        "    if t!=0:\n",
        "      print (\"%d ----> %s\" % (t, lang.index_word[t]))"
      ],
      "metadata": {
        "id": "SXQQ7cexDFrf"
      },
      "execution_count": null,
      "outputs": []
    },
    {
      "cell_type": "code",
      "source": [
        "print (\"Input Language; index to word mapping\")\n",
        "convert(inp_lang, input_tensor_train[10])\n",
        "print ()\n",
        "print (\"Target Language; index to word mapping\")\n",
        "convert( targ_lang, target_tensor_train[10])"
      ],
      "metadata": {
        "colab": {
          "base_uri": "https://localhost:8080/"
        },
        "id": "XBHi65Dx-uAK",
        "outputId": "2ce69df3-9979-45a5-d6d0-e8e616727fa7"
      },
      "execution_count": null,
      "outputs": [
        {
          "output_type": "stream",
          "name": "stdout",
          "text": [
            "Input Language; index to word mapping\n",
            "1 ----> <start>\n",
            "27 ----> what\n",
            "17 ----> do\n",
            "5 ----> you\n",
            "37 ----> like\n",
            "7 ----> to\n",
            "181 ----> eat\n",
            "8 ----> ?\n",
            "2 ----> <end>\n",
            "\n",
            "Target Language; index to word mapping\n",
            "1 ----> <start>\n",
            "36 ----> ماذا\n",
            "99 ----> تحب\n",
            "4 ----> ان\n",
            "2327 ----> تاكل؟\n",
            "2 ----> <end>\n"
          ]
        }
      ]
    },
    {
      "cell_type": "code",
      "metadata": {
        "id": "TqHsArVZ3jFS",
        "colab": {
          "base_uri": "https://localhost:8080/"
        },
        "outputId": "5e219e69-a29d-48d6-abeb-7648e9f880a8"
      },
      "source": [
        "BUFFER_SIZE_TRAIN = len(input_tensor_train)\n",
        "BUFFER_SIZE_VAL = len(input_tensor_val)\n",
        "BATCH_SIZE = 64#32 # 64\n",
        "N_BATCH = BUFFER_SIZE_TRAIN//BATCH_SIZE #steps_per_epoch \n",
        "\n",
        "#https://www.tensorflow.org/api_docs/python/tf/data/Dataset#batch\n",
        "#https://ai.stackexchange.com/questions/8560/how-do-i-choose-the-optimal-batch-size\n",
        "\n",
        "\n",
        "vocab_inp_size = len(inp_lang.word_index)+1\n",
        "vocab_tar_size = len(targ_lang.word_index)+1\n",
        "\n",
        "\n",
        "dataset = tf.data.Dataset.from_tensor_slices((input_tensor_train, target_tensor_train)).shuffle(BUFFER_SIZE_TRAIN)\n",
        "dataset = dataset.batch(BATCH_SIZE, drop_remainder=True)\n",
        "print(type(dataset))\n",
        "\n",
        "\n",
        "val_ds = tf.data.Dataset.from_tensor_slices((input_tensor_val, target_tensor_val)).shuffle(BUFFER_SIZE_VAL)\n",
        "val_ds = val_ds.batch(BATCH_SIZE, drop_remainder=True)\n",
        "\n",
        "test_ds = tf.data.Dataset.from_tensor_slices((input_tensor_test, target_tensor_test)).shuffle(BUFFER_SIZE_VAL)\n",
        "test_ds = test_ds.batch(BATCH_SIZE, drop_remainder=True)\n",
        "\n",
        "#https://www.tensorflow.org/api_docs/python/tf/data/Dataset\n"
      ],
      "execution_count": null,
      "outputs": [
        {
          "output_type": "stream",
          "name": "stdout",
          "text": [
            "<class 'tensorflow.python.data.ops.dataset_ops.BatchDataset'>\n"
          ]
        }
      ]
    },
    {
      "cell_type": "code",
      "source": [
        "example_input_batch, example_target_batch = next(iter(dataset))\n",
        "example_input_batch.shape, example_target_batch.shape"
      ],
      "metadata": {
        "colab": {
          "base_uri": "https://localhost:8080/"
        },
        "id": "SmogXy73Z7AO",
        "outputId": "1fd6ed2f-38ce-4fae-bc0b-61c48024ff43"
      },
      "execution_count": null,
      "outputs": [
        {
          "output_type": "execute_result",
          "data": {
            "text/plain": [
              "(TensorShape([64, 21]), TensorShape([64, 20]))"
            ]
          },
          "metadata": {},
          "execution_count": 280
        }
      ]
    },
    {
      "cell_type": "code",
      "source": [
        "embedding_dim = 256\n",
        "units = 300 #1024"
      ],
      "metadata": {
        "id": "6y35PBKNb_hT"
      },
      "execution_count": null,
      "outputs": []
    },
    {
      "cell_type": "code",
      "source": [
        "#https://www.youtube.com/watch?v=5Aeno9nzMZQ\n",
        "#https://zhuanlan.zhihu.com/p/58854907"
      ],
      "metadata": {
        "id": "EDvyccwBt1Ki"
      },
      "execution_count": null,
      "outputs": []
    },
    {
      "cell_type": "code",
      "source": [
        "def gru(units):\n",
        " \n",
        "    return tf.keras.layers.GRU(units, \n",
        "                                return_sequences=True, \n",
        "                                return_state=True, \n",
        "                                recurrent_activation='sigmoid', \n",
        "                                recurrent_initializer='glorot_uniform')"
      ],
      "metadata": {
        "id": "rxke_hJrbFUA"
      },
      "execution_count": null,
      "outputs": []
    },
    {
      "cell_type": "code",
      "metadata": {
        "id": "nZ2rI24i3jFg"
      },
      "source": [
        "class Encoder(tf.keras.Model):\n",
        "    \n",
        "    def __init__(self, vocab_size, embedding_dim, enc_units, batch_sz):\n",
        "        super(Encoder, self).__init__()\n",
        "        self.batch_sz = batch_sz\n",
        "        self.enc_units = enc_units\n",
        "        self.embedding = tf.keras.layers.Embedding(vocab_size, embedding_dim)\n",
        "        self.gru = gru(self.enc_units)\n",
        "       # self.bidirection =tf.keras.layers.Bidirectional(self.gru, merge_mode='concat')\n",
        "\n",
        "    def call(self, x, hidden):#hidden_fd,hidden_bd(bidirection)\n",
        "        x = self.embedding(x)\n",
        "        output, state = self.gru(x, initial_state = hidden)\n",
        "        return output, state\n",
        "       \n",
        "       #bidirection\n",
        "       # output, fd_state, bd_state = self.bidirection(x, initial_state = [hidden_fd, hidden_bd])\n",
        "       # return output,  fd_state, bd_state \n",
        "    \n",
        "    def initialize_hidden_state(self):\n",
        "        return tf.zeros((self.batch_sz, self.enc_units))\n",
        "      #bidirection\n",
        "      #  return [tf.zeros((self.batch_sz, self.enc_units)) for i in range(2)]\n",
        "        "
      ],
      "execution_count": null,
      "outputs": []
    },
    {
      "cell_type": "code",
      "source": [
        "encoder = Encoder(vocab_inp_size, embedding_dim, units, BATCH_SIZE)\n",
        "\n",
        "\n",
        "# sample input\n",
        "sample_hidden = encoder.initialize_hidden_state()\n",
        "sample_output, sample_hidden = encoder(example_input_batch, sample_hidden)\n",
        "print ('Encoder output shape: (batch size, sequence length, units) {}'.format(sample_output.shape))\n",
        "print ('Encoder Hidden state shape: (batch size, units) {}'.format(sample_hidden.shape))"
      ],
      "metadata": {
        "id": "cm1nSCwVcArn",
        "colab": {
          "base_uri": "https://localhost:8080/",
          "height": 235
        },
        "outputId": "50a10156-39f7-4164-c38d-f0d8dd906fb8"
      },
      "execution_count": null,
      "outputs": [
        {
          "output_type": "error",
          "ename": "NameError",
          "evalue": "ignored",
          "traceback": [
            "\u001b[0;31m---------------------------------------------------------------------------\u001b[0m",
            "\u001b[0;31mNameError\u001b[0m                                 Traceback (most recent call last)",
            "\u001b[0;32m<ipython-input-24-de13f66b85dc>\u001b[0m in \u001b[0;36m<module>\u001b[0;34m()\u001b[0m\n\u001b[1;32m      4\u001b[0m \u001b[0;31m# sample input\u001b[0m\u001b[0;34m\u001b[0m\u001b[0;34m\u001b[0m\u001b[0;34m\u001b[0m\u001b[0m\n\u001b[1;32m      5\u001b[0m \u001b[0msample_hidden\u001b[0m \u001b[0;34m=\u001b[0m \u001b[0mencoder\u001b[0m\u001b[0;34m.\u001b[0m\u001b[0minitialize_hidden_state\u001b[0m\u001b[0;34m(\u001b[0m\u001b[0;34m)\u001b[0m\u001b[0;34m\u001b[0m\u001b[0;34m\u001b[0m\u001b[0m\n\u001b[0;32m----> 6\u001b[0;31m \u001b[0msample_output\u001b[0m\u001b[0;34m,\u001b[0m \u001b[0msample_hidden\u001b[0m \u001b[0;34m=\u001b[0m \u001b[0mencoder\u001b[0m\u001b[0;34m(\u001b[0m\u001b[0mexample_input_batch\u001b[0m\u001b[0;34m,\u001b[0m \u001b[0msample_hidden\u001b[0m\u001b[0;34m)\u001b[0m\u001b[0;34m\u001b[0m\u001b[0;34m\u001b[0m\u001b[0m\n\u001b[0m\u001b[1;32m      7\u001b[0m \u001b[0mprint\u001b[0m \u001b[0;34m(\u001b[0m\u001b[0;34m'Encoder output shape: (batch size, sequence length, units) {}'\u001b[0m\u001b[0;34m.\u001b[0m\u001b[0mformat\u001b[0m\u001b[0;34m(\u001b[0m\u001b[0msample_output\u001b[0m\u001b[0;34m.\u001b[0m\u001b[0mshape\u001b[0m\u001b[0;34m)\u001b[0m\u001b[0;34m)\u001b[0m\u001b[0;34m\u001b[0m\u001b[0;34m\u001b[0m\u001b[0m\n\u001b[1;32m      8\u001b[0m \u001b[0mprint\u001b[0m \u001b[0;34m(\u001b[0m\u001b[0;34m'Encoder Hidden state shape: (batch size, units) {}'\u001b[0m\u001b[0;34m.\u001b[0m\u001b[0mformat\u001b[0m\u001b[0;34m(\u001b[0m\u001b[0msample_hidden\u001b[0m\u001b[0;34m.\u001b[0m\u001b[0mshape\u001b[0m\u001b[0;34m)\u001b[0m\u001b[0;34m)\u001b[0m\u001b[0;34m\u001b[0m\u001b[0;34m\u001b[0m\u001b[0m\n",
            "\u001b[0;31mNameError\u001b[0m: name 'example_input_batch' is not defined"
          ]
        }
      ]
    },
    {
      "cell_type": "code",
      "source": [
        "#bidirection\n",
        "'''\n",
        "# Sanity check the shapes\n",
        "encoder = Encoder(vocab_inp_size, embedding_dim, units, BATCH_SIZE)\n",
        "\n",
        "# sample input\n",
        "initial_fwd, initial_bck = encoder.initialize_hidden_state()\n",
        "for en, sp in train_ds.take(1):\n",
        "    sample_enc_hidden_states, sample_hidden_fwd, sample_hidden_bck = encoder(en, initial_fwd, initial_bck)\n",
        "    print ('Encoder output shape: (batch size, sequence length, units) {}'.format(sample_enc_hidden_states.shape))\n",
        "    print ('Encoder Hidden FWD state shape: (batch size, units) {}'.format(sample_hidden_fwd.shape))\n",
        "    print ('Encoder Hidden FWD state shape: (batch size, units) {}'.format(sample_hidden_bck.shape))\n",
        "\n",
        "'''"
      ],
      "metadata": {
        "id": "zt8CBpLMdCiu"
      },
      "execution_count": null,
      "outputs": []
    },
    {
      "cell_type": "code",
      "source": [
        "class BahdanauAttention(tf.keras.layers.Layer):\n",
        "  def __init__(self, units):\n",
        "    super(BahdanauAttention, self).__init__()\n",
        "    self.W1 = tf.keras.layers.Dense(units)\n",
        "    self.W2 = tf.keras.layers.Dense(units)\n",
        "    self.V = tf.keras.layers.Dense(1)\n",
        "   # https://www.tutorialspoint.com/keras/keras_dense_layer.htm\n",
        "\n",
        "  def call(self, query, values): \n",
        "    #query =dec_hidden_state ,values=annotations\n",
        "    # hidden shape == (batch_size, hidden size)\n",
        "    # hidden_with_time_axis shape == (batch_size, 1, hidden size)\n",
        "    # we are doing this to perform addition to calculate the score\n",
        "    #tf.expand_dims is used to insert an addition dimension in input Tensor.\n",
        "    hidden_with_time_axis = tf.expand_dims(query, 1)\n",
        "\n",
        "    #https://www.geeksforgeeks.org/python-tensorflow-expand_dims/\n",
        "\n",
        "    # score shape == (batch_size, max_length, 1)\n",
        "    # we get 1 at the last axis because we are applying score to self.V\n",
        "    # the shape of the tensor before applying self.V is (batch_size, max_length, units)\n",
        "    score = self.V(tf.nn.tanh(\n",
        "        self.W1(values) + self.W2(hidden_with_time_axis)))\n",
        "\n",
        "    # attention_weights shape == (batch_size, max_length, 1)\n",
        "    attention_weights = tf.nn.softmax(score, axis=1)\n",
        "\n",
        "    # context_vector shape after sum == (batch_size, hidden_size)\n",
        "    context_vector = attention_weights * values\n",
        "    context_vector = tf.reduce_sum(context_vector, axis=1)\n",
        "\n",
        "    return context_vector, attention_weights"
      ],
      "metadata": {
        "id": "7skRaRj2cH2M"
      },
      "execution_count": null,
      "outputs": []
    },
    {
      "cell_type": "code",
      "source": [
        "attention_layer = BahdanauAttention(5)\n",
        "attention_result, attention_weights = attention_layer(sample_hidden, sample_output)\n",
        "\n",
        "print(\"Attention result shape: (batch size, units) {}\".format(attention_result.shape))\n",
        "print(\"Attention weights shape: (batch_size, sequence_length, 1) {}\".format(attention_weights.shape))\n"
      ],
      "metadata": {
        "id": "pYWpH3PHcM3V",
        "colab": {
          "base_uri": "https://localhost:8080/",
          "height": 235
        },
        "outputId": "36e730d2-6e75-4d26-a63f-a15fe7a6ce25"
      },
      "execution_count": null,
      "outputs": [
        {
          "output_type": "error",
          "ename": "NameError",
          "evalue": "ignored",
          "traceback": [
            "\u001b[0;31m---------------------------------------------------------------------------\u001b[0m",
            "\u001b[0;31mNameError\u001b[0m                                 Traceback (most recent call last)",
            "\u001b[0;32m<ipython-input-26-102a9c83a001>\u001b[0m in \u001b[0;36m<module>\u001b[0;34m()\u001b[0m\n\u001b[1;32m      1\u001b[0m \u001b[0mattention_layer\u001b[0m \u001b[0;34m=\u001b[0m \u001b[0mBahdanauAttention\u001b[0m\u001b[0;34m(\u001b[0m\u001b[0;36m5\u001b[0m\u001b[0;34m)\u001b[0m\u001b[0;34m\u001b[0m\u001b[0;34m\u001b[0m\u001b[0m\n\u001b[0;32m----> 2\u001b[0;31m \u001b[0mattention_result\u001b[0m\u001b[0;34m,\u001b[0m \u001b[0mattention_weights\u001b[0m \u001b[0;34m=\u001b[0m \u001b[0mattention_layer\u001b[0m\u001b[0;34m(\u001b[0m\u001b[0msample_hidden\u001b[0m\u001b[0;34m,\u001b[0m \u001b[0msample_output\u001b[0m\u001b[0;34m)\u001b[0m\u001b[0;34m\u001b[0m\u001b[0;34m\u001b[0m\u001b[0m\n\u001b[0m\u001b[1;32m      3\u001b[0m \u001b[0;34m\u001b[0m\u001b[0m\n\u001b[1;32m      4\u001b[0m \u001b[0mprint\u001b[0m\u001b[0;34m(\u001b[0m\u001b[0;34m\"Attention result shape: (batch size, units) {}\"\u001b[0m\u001b[0;34m.\u001b[0m\u001b[0mformat\u001b[0m\u001b[0;34m(\u001b[0m\u001b[0mattention_result\u001b[0m\u001b[0;34m.\u001b[0m\u001b[0mshape\u001b[0m\u001b[0;34m)\u001b[0m\u001b[0;34m)\u001b[0m\u001b[0;34m\u001b[0m\u001b[0;34m\u001b[0m\u001b[0m\n\u001b[1;32m      5\u001b[0m \u001b[0mprint\u001b[0m\u001b[0;34m(\u001b[0m\u001b[0;34m\"Attention weights shape: (batch_size, sequence_length, 1) {}\"\u001b[0m\u001b[0;34m.\u001b[0m\u001b[0mformat\u001b[0m\u001b[0;34m(\u001b[0m\u001b[0mattention_weights\u001b[0m\u001b[0;34m.\u001b[0m\u001b[0mshape\u001b[0m\u001b[0;34m)\u001b[0m\u001b[0;34m)\u001b[0m\u001b[0;34m\u001b[0m\u001b[0;34m\u001b[0m\u001b[0m\n",
            "\u001b[0;31mNameError\u001b[0m: name 'sample_output' is not defined"
          ]
        }
      ]
    },
    {
      "cell_type": "code",
      "source": [
        "class LuongAttention(tf.keras.layers.Layer):\n",
        "  def __init__(self, units):\n",
        "    super(LuongAttention, self).__init__()\n",
        "    self.W1 = tf.keras.layers.Dense(units)\n",
        "    self.W2 = tf.keras.layers.Dense(units)\n",
        "    self.W3 = tf.keras.layers.Dense(units)\n",
        "    self.W4 = tf.keras.layers.Dense(units)\n",
        "    self.V = tf.keras.layers.Dense(1)\n",
        "\n",
        "  def call(self, dec_hidden_state, annotations):\n",
        "    dec_hidden_state_time = tf.expand_dims(dec_hidden_state, 1)\n",
        "\n",
        "    score = self.V(tf.nn.tanh(\n",
        "        self.W1(dec_hidden_state_time) + self.W2(annotations)))\n",
        "\n",
        "    # attention_weights shape == (batch_size, max_length, 1)\n",
        "    attention_weights = tf.nn.softmax(score, axis=1)\n",
        "    \n",
        "    # context_vector shape after sum == (batch_size, hidden_size)\n",
        "    context_vector = attention_weights * annotations\n",
        "    context_vector = tf.reduce_sum(context_vector, axis=1)\n",
        "\n",
        "    mod_hidden = tf.nn.tanh(\n",
        "        self.W3(context_vector) + self.W4(dec_hidden_state)\n",
        "    )\n",
        "\n",
        "    return mod_hidden, attention_weights"
      ],
      "metadata": {
        "id": "NObhjz0oo_Dl"
      },
      "execution_count": null,
      "outputs": []
    },
    {
      "cell_type": "code",
      "source": [
        "attention_layer = LuongAttention(300)\n",
        "attention_result, attention_weights = attention_layer(sample_hidden, sample_output)\n",
        "\n",
        "print(\"Attention result shape: (batch size, units) {}\".format(attention_result.shape))\n",
        "print(\"Attention weights shape: (batch_size, sequence_length, 1) {}\".format(attention_weights.shape))\n"
      ],
      "metadata": {
        "colab": {
          "base_uri": "https://localhost:8080/"
        },
        "id": "TFc6eH8vTsS0",
        "outputId": "38dc0d9e-cc43-4447-af7d-4ac1372dcd90"
      },
      "execution_count": null,
      "outputs": [
        {
          "output_type": "stream",
          "name": "stdout",
          "text": [
            "Attention result shape: (batch size, units) (64, 300)\n",
            "Attention weights shape: (batch_size, sequence_length, 1) (64, 42, 1)\n"
          ]
        }
      ]
    },
    {
      "cell_type": "code",
      "metadata": {
        "id": "yJ_B3mhW3jFk"
      },
      "source": [
        "class Decoder(tf.keras.Model):\n",
        "   \n",
        "    def __init__(self, vocab_size, embedding_dim, dec_units, batch_sz):\n",
        "        super(Decoder, self).__init__()\n",
        "        self.batch_sz = batch_sz\n",
        "        self.dec_units = dec_units\n",
        "        self.embedding = tf.keras.layers.Embedding(vocab_size, embedding_dim)\n",
        "        self.gru = gru(self.dec_units)\n",
        "        self.fc = tf.keras.layers.Dense(vocab_size)\n",
        "        \n",
        "        # used for attention\n",
        "        #self.attention = BahdanauAttention(self.dec_units)\n",
        "        self.attention = LuongAttention(self.dec_units)\n",
        "\n",
        "        \n",
        "    def call(self, x, hidden, enc_output):\n",
        "        \n",
        "      # enc_output shape == (batch_size, max_length, hidden_size)\n",
        "        context_vector, attention_weights = self.attention(hidden, enc_output)\n",
        "\n",
        "        # x shape after passing through embedding == (batch_size, 1, embedding_dim)\n",
        "        x = self.embedding(x)\n",
        "        \n",
        "        # x shape after concatenation == (batch_size, 1, embedding_dim + hidden_size)\n",
        "        x = tf.concat([tf.expand_dims(context_vector, 1), x], axis=-1)\n",
        "        \n",
        "        # passing the concatenated vector to the GRU\n",
        "        output, state = self.gru(x)\n",
        "        \n",
        "        # output shape == (batch_size * 1, hidden_size)\n",
        "        output = tf.reshape(output, (-1, output.shape[2]))\n",
        "        \n",
        "        # output shape == (batch_size * 1, vocab)\n",
        "        x = self.fc(output)\n",
        "            \n",
        "        return x, state, attention_weights\n",
        "        \n",
        "    def initialize_hidden_state(self):\n",
        "        return tf.zeros((self.batch_sz, self.dec_units))\n",
        "    \n",
        "    def saved_hidden_state(self):\n",
        "        return self.gru.states"
      ],
      "execution_count": null,
      "outputs": []
    },
    {
      "cell_type": "code",
      "metadata": {
        "id": "P5UY8wko3jFp",
        "colab": {
          "base_uri": "https://localhost:8080/"
        },
        "outputId": "07cb5c05-bb0f-4073-b4eb-8e7e959d2386"
      },
      "source": [
        "print(units)\n",
        "decoder = Decoder(vocab_tar_size, embedding_dim, units, BATCH_SIZE)\n",
        "\n",
        "sample_decoder_output, _, _ = decoder(tf.random.uniform((BATCH_SIZE, 1)),\n",
        "                                      sample_hidden, sample_output)\n",
        "\n",
        "print ('Decoder output shape: (batch_size, vocab size) {}'.format(sample_decoder_output.shape))\n",
        "\n"
      ],
      "execution_count": null,
      "outputs": [
        {
          "output_type": "stream",
          "name": "stdout",
          "text": [
            "300\n",
            "Decoder output shape: (batch_size, vocab size) (64, 10576)\n"
          ]
        }
      ]
    },
    {
      "cell_type": "code",
      "source": [
        "#https://neptune.ai/blog/keras-loss-functions\n",
        "\n",
        "#mask in mask = tf.math.logical_not(tf.math.equal(real, 0)) is taking care of the PADDING\n",
        "#https://www.tensorflow.org/api_docs/python/tf/cast\n",
        "#https://www.tensorflow.org/api_docs/python/tf/math/reduce_mean\n"
      ],
      "metadata": {
        "id": "s-Sjyhvl8Osl"
      },
      "execution_count": null,
      "outputs": []
    },
    {
      "cell_type": "markdown",
      "metadata": {
        "id": "_ch_71VbIRfK"
      },
      "source": [
        "## Define the optimizer and the loss function"
      ]
    },
    {
      "cell_type": "code",
      "metadata": {
        "id": "WmTHr5iV3jFr",
        "colab": {
          "base_uri": "https://localhost:8080/",
          "height": 53
        },
        "outputId": "2b8122e3-73f5-40b2-a093-74047c30fc38"
      },
      "source": [
        "\n",
        "optimizer = tf.keras.optimizers.Adam()\n",
        "loss_object = tf.keras.losses.SparseCategoricalCrossentropy(\n",
        "    from_logits=True,\n",
        "    reduction='none')\n",
        "\n",
        "def loss_function(real, pred):\n",
        "    mask = tf.math.logical_not(tf.math.equal(real, 0))\n",
        "    loss_ = loss_object(real, pred)\n",
        "    mask = tf.cast(mask, dtype=loss_.dtype)\n",
        "    loss_ *= mask\n",
        "    return tf.reduce_mean(loss_)\n",
        "  \n",
        "###########################################\n",
        "#another loss function\n",
        "#optimizer = tf.keras.optimizers.Adam()\n",
        "\n",
        "'''\n",
        "def loss_function(real, pred):\n",
        "    mask = 1 - np.equal(real, 0)\n",
        "    loss_ = tf.nn.sparse_softmax_cross_entropy_with_logits(labels=real, logits=pred) * mask\n",
        "    return tf.reduce_mean(loss_)\n",
        "'''"
      ],
      "execution_count": null,
      "outputs": [
        {
          "output_type": "execute_result",
          "data": {
            "application/vnd.google.colaboratory.intrinsic+json": {
              "type": "string"
            },
            "text/plain": [
              "'\\ndef loss_function(real, pred):\\n    mask = 1 - np.equal(real, 0)\\n    loss_ = tf.nn.sparse_softmax_cross_entropy_with_logits(labels=real, logits=pred) * mask\\n    return tf.reduce_mean(loss_)\\n'"
            ]
          },
          "metadata": {},
          "execution_count": 29
        }
      ]
    },
    {
      "cell_type": "code",
      "source": [
        "checkpoint_dir = 'training_checkpoints'\n",
        "checkpoint_prefix = os.path.join(checkpoint_dir, \"ckpt\")\n",
        "checkpoint = tf.train.Checkpoint(optimizer=optimizer,\n",
        "                                 encoder=encoder,\n",
        "                                 decoder=decoder)"
      ],
      "metadata": {
        "id": "az9c_LXBvhgA"
      },
      "execution_count": null,
      "outputs": []
    },
    {
      "cell_type": "markdown",
      "source": [
        ""
      ],
      "metadata": {
        "id": "lTXSbULFW0YJ"
      }
    },
    {
      "cell_type": "code",
      "source": [
        "class NMT(tf.keras.Model):\n",
        "    def __init__(self, encoder, decoder, epoch):\n",
        "        super(NMT, self).__init__()\n",
        "        self.encoder = encoder\n",
        "        self.decoder = decoder\n",
        "\n",
        " \n",
        "    def train_step(self, data):\n",
        "        # Every sentence is different\n",
        "        # We would not want the memory state to flow from\n",
        "        # one sentence to other\n",
        "        hidden = self.encoder.initialize_hidden_state()\n",
        "        inp, targ= data\n",
        "        loss = 0\n",
        "        with tf.GradientTape() as tape:\n",
        "            enc_output, enc_hidden = self.encoder(inp, hidden) # enc_output = annotations\n",
        "            dec_hidden = enc_hidden\n",
        "            dec_input = tf.expand_dims([targ_lang.word_index['<start>']] * BATCH_SIZE, 1)\n",
        "\n",
        "            # Teacher forcing - feeding the target as the next input\n",
        "            for t in range(1, targ.shape[1]):\n",
        "                # passing enc_output to the decoder\n",
        "                predictions, dec_hidden, att_weights = self.decoder(dec_input, dec_hidden, enc_output)\n",
        "                loss += self.compiled_loss(targ[:, t], predictions)\n",
        "                # using teacher forcing\n",
        "                dec_input = tf.expand_dims(targ[:, t], 1)\n",
        "\n",
        "        batch_loss = (loss / int(targ.shape[1]))\n",
        "        #https://stackoverflow.com/questions/53953099/what-is-the-purpose-of-the-tensorflow-gradient-tape\n",
        "        #https://www.youtube.com/watch?v=tDG52BjkGUY\n",
        "        variables = encoder.trainable_variables + decoder.trainable_variables\n",
        "        gradients = tape.gradient(loss, variables)\n",
        "\n",
        "        #https://www.tensorflow.org/api_docs/python/tf/keras/optimizers/Optimizer\n",
        "        optimizer.apply_gradients(zip(gradients, variables))\n",
        "        \n",
        "        # saving (checkpoint) the model every 2 epochs\n",
        "        #checkpoint.save(file_prefix = checkpoint_prefix)\n",
        "        \n",
        "        return {\"custom_loss\": batch_loss}\n",
        "\n",
        "    def test_step(self, data):\n",
        "        hidden= self.encoder.initialize_hidden_state()\n",
        "        inp, targ = data\n",
        "        loss = 0\n",
        "        enc_output, enc_hidden= self.encoder(inp, hidden)\n",
        "        dec_hidden = enc_hidden\n",
        "        dec_input = tf.expand_dims([targ_lang.word_index['<start>']] * BATCH_SIZE, 1)\n",
        "        # Teacher forcing - feeding the target as the next input\n",
        "        for t in range(1, targ.shape[1]):\n",
        "            # passing enc_output to the decoder\n",
        "            predictions, dec_hidden, att_weights = self.decoder(dec_input, dec_hidden, enc_output)\n",
        "            loss += self.compiled_loss(targ[:, t], predictions)\n",
        "            # using teacher forcing\n",
        "            dec_input = tf.expand_dims(targ[:, t], 1)\n",
        "        batch_loss = (loss / int(targ.shape[1]))\n",
        "        return {\"custom_loss\": batch_loss}\n",
        "        \n",
        "       \n",
        "     "
      ],
      "metadata": {
        "id": "Pv1zwFIxpX7k"
      },
      "execution_count": null,
      "outputs": []
    },
    {
      "cell_type": "code",
      "source": [
        "#early stopping \n",
        "es = tf.keras.callbacks.EarlyStopping(monitor=\"val_custom_loss\", patience=5, verbose=2, restore_best_weights=True)\n",
        "#https://machinelearningmastery.com/how-to-stop-training-deep-neural-networks-at-the-right-time-using-early-stopping/"
      ],
      "metadata": {
        "id": "qFguPiwZjva2"
      },
      "execution_count": null,
      "outputs": []
    },
    {
      "cell_type": "code",
      "metadata": {
        "id": "ddefjBMa3jF0"
      },
      "source": [
        "#https://keras.io/api/models/model_training_apis/\n",
        "#https://www.geeksforgeeks.org/choose-optimal-number-of-epochs-to-train-a-neural-network-in-keras/\n",
        "EPOCHS=10\n",
        "encoder = Encoder(vocab_inp_size, embedding_dim, units, BATCH_SIZE)\n",
        "decoder = Decoder(vocab_tar_size, embedding_dim, units, BATCH_SIZE)\n",
        "\n",
        "optimizer = tf.keras.optimizers.Adam()\n",
        "loss_object = tf.keras.losses.SparseCategoricalCrossentropy(\n",
        "    from_logits=True,\n",
        "    reduction='none')\n",
        "\n",
        "def loss_function(real, pred):\n",
        "    mask = tf.math.logical_not(tf.math.equal(real, 0))\n",
        "    loss_ = loss_object(real, pred)\n",
        "    mask = tf.cast(mask, dtype=loss_.dtype)\n",
        "    loss_ *= mask\n",
        "\n",
        "    return tf.reduce_mean(loss_)\n",
        "\n",
        "main_model = NMT(encoder, decoder,EPOCHS)\n",
        "main_model.compile(loss=loss_function, optimizer=optimizer )\n"
      ],
      "execution_count": null,
      "outputs": []
    },
    {
      "cell_type": "code",
      "source": [
        "history = main_model.fit(\n",
        "    dataset,\n",
        "    validation_data= val_ds,\n",
        "    batch_size=32,\n",
        "    epochs=8\n",
        "    )"
      ],
      "metadata": {
        "colab": {
          "base_uri": "https://localhost:8080/"
        },
        "id": "gkZYc7508fes",
        "outputId": "7f6f0cd2-fed0-490e-c845-686aa457634c"
      },
      "execution_count": null,
      "outputs": [
        {
          "output_type": "stream",
          "name": "stdout",
          "text": [
            "Epoch 1/8\n",
            "134/134 [==============================] - 89s 234ms/step - custom_loss: 0.9782 - val_custom_loss: 0.8688\n",
            "Epoch 2/8\n",
            "134/134 [==============================] - 15s 114ms/step - custom_loss: 0.8083 - val_custom_loss: 0.8170\n",
            "Epoch 3/8\n",
            "134/134 [==============================] - 15s 114ms/step - custom_loss: 0.7709 - val_custom_loss: 0.8473\n",
            "Epoch 4/8\n",
            "134/134 [==============================] - 15s 115ms/step - custom_loss: 0.7426 - val_custom_loss: 0.8824\n",
            "Epoch 5/8\n",
            "134/134 [==============================] - 15s 115ms/step - custom_loss: 0.7159 - val_custom_loss: 0.7786\n",
            "Epoch 6/8\n",
            "134/134 [==============================] - 16s 116ms/step - custom_loss: 0.6884 - val_custom_loss: 0.8109\n",
            "Epoch 7/8\n",
            "134/134 [==============================] - 16s 116ms/step - custom_loss: 0.6618 - val_custom_loss: 0.8163\n",
            "Epoch 8/8\n",
            "134/134 [==============================] - 16s 116ms/step - custom_loss: 0.6361 - val_custom_loss: 0.7464\n"
          ]
        }
      ]
    },
    {
      "cell_type": "code",
      "source": [
        "#https://machinelearningmastery.com/display-deep-learning-model-training-history-in-keras/\n",
        "\n",
        "print(history.history.keys())\n",
        "'''\n",
        "plt.plot(history.history['accuracy'])\n",
        "plt.plot(history.history['val_accuracy'])\n",
        "plt.title('model accuracy')\n",
        "plt.ylabel('accuracy')\n",
        "plt.xlabel('epoch')\n",
        "plt.legend(['train', 'test'], loc='upper left')\n",
        "plt.show()\n",
        "'''\n",
        "plt.plot(history.history[\"custom_loss\"], label=\"train_loss\")\n",
        "plt.plot(history.history[\"val_custom_loss\"], label=\"val_loss\")\n",
        "plt.title(\"Loss vs. Epoch\")\n",
        "plt.xlabel(\"Epoch #\")\n",
        "plt.ylabel(\"Loss\")\n",
        "plt.legend(loc=\"lower left\")\n",
        "plt.show()\n"
      ],
      "metadata": {
        "colab": {
          "base_uri": "https://localhost:8080/",
          "height": 312
        },
        "id": "JHAnrWfKEU-u",
        "outputId": "0bd420b5-fa95-4bcd-f816-c5b2f20be4ec"
      },
      "execution_count": null,
      "outputs": [
        {
          "output_type": "stream",
          "name": "stdout",
          "text": [
            "dict_keys(['custom_loss', 'val_custom_loss'])\n"
          ]
        },
        {
          "output_type": "display_data",
          "data": {
            "image/png": "[encoded data removed]",
            "text/plain": [
              "<Figure size 432x288 with 1 Axes>"
            ]
          },
          "metadata": {
            "needs_background": "light"
          }
        }
      ]
    },
    {
      "cell_type": "code",
      "source": [
        "custom_test_loss = main_model.evaluate(test_ds)\n",
        "print(f'[INFO] Test Loss: {custom_test_loss}')"
      ],
      "metadata": {
        "colab": {
          "base_uri": "https://localhost:8080/"
        },
        "id": "7HXjm24eEeQb",
        "outputId": "461a2c7a-7e90-43ae-ca33-b261d1a5a76a"
      },
      "execution_count": null,
      "outputs": [
        {
          "output_type": "stream",
          "name": "stdout",
          "text": [
            "16/16 [==============================] - 1s 52ms/step - custom_loss: 0.7777\n",
            "[INFO] Test Loss: 0.7920693755149841\n"
          ]
        }
      ]
    },
    {
      "cell_type": "code",
      "source": [
        "# Save the weights of the model for better reproducibility\n",
        "main_model.encoder.save_weights(\"encoder.h8\")\n",
        "main_model.decoder.save_weights(\"decoder.h8\")\n",
        "'''\n",
        "save_dir = './model_save'\n",
        "encoder_prefix = os.path.join(save_dir, \"encoder_weights\")\n",
        "decoder_prefix = os.path.join(save_dir, \"decoder_weights\")\n",
        "encoder.load_weights(encoder_prefix)\n",
        "decoder.load_weights(decoder_prefix)\n",
        "'''"
      ],
      "metadata": {
        "id": "wwmedAfSEi7G",
        "colab": {
          "base_uri": "https://localhost:8080/",
          "height": 70
        },
        "outputId": "2d7b410f-0177-45dc-8eef-de6557abbf02"
      },
      "execution_count": null,
      "outputs": [
        {
          "output_type": "execute_result",
          "data": {
            "application/vnd.google.colaboratory.intrinsic+json": {
              "type": "string"
            },
            "text/plain": [
              "'\\nsave_dir = \\'./model_save\\'\\nencoder_prefix = os.path.join(save_dir, \"encoder_weights\")\\ndecoder_prefix = os.path.join(save_dir, \"decoder_weights\")\\nencoder.load_weights(encoder_prefix)\\ndecoder.load_weights(decoder_prefix)\\n'"
            ]
          },
          "metadata": {},
          "execution_count": 292
        }
      ]
    },
    {
      "cell_type": "markdown",
      "source": [
        "****"
      ],
      "metadata": {
        "id": "tcq4QThDJQJV"
      }
    },
    {
      "cell_type": "code",
      "source": [
        "checkpoint.restore(tf.train.latest_checkpoint(checkpoint_dir))\n",
        "#os.listdir(checkpoint_dir)"
      ],
      "metadata": {
        "colab": {
          "base_uri": "https://localhost:8080/"
        },
        "id": "nPeY9ulOHwDJ",
        "outputId": "d62f8699-cf63-4288-cbf8-28934dc38d89"
      },
      "execution_count": null,
      "outputs": [
        {
          "output_type": "execute_result",
          "data": {
            "text/plain": [
              "<tensorflow.python.training.tracking.util.CheckpointLoadStatus at 0x7f2498fae410>"
            ]
          },
          "metadata": {},
          "execution_count": 78
        }
      ]
    },
    {
      "cell_type": "code",
      "source": [
        "#main_model.encoder.load_weights(\"encoder.h8\")\n",
        "#main_model.decoder.load_weights(\"decoder.h8\")"
      ],
      "metadata": {
        "colab": {
          "base_uri": "https://localhost:8080/"
        },
        "id": "6QYxOLfOOt7d",
        "outputId": "1addde2f-983c-46d0-92de-edc43bea55da"
      },
      "execution_count": null,
      "outputs": [
        {
          "output_type": "execute_result",
          "data": {
            "text/plain": [
              "<tensorflow.python.training.tracking.util.CheckpointLoadStatus at 0x7fc5ac80e4d0>"
            ]
          },
          "metadata": {},
          "execution_count": 71
        }
      ]
    },
    {
      "cell_type": "markdown",
      "source": [
        "**Inference**"
      ],
      "metadata": {
        "id": "ZjAI73eHJXNY"
      }
    },
    {
      "cell_type": "code",
      "source": [
        "encoder = main_model.encoder\n",
        "decoder = main_model.decoder"
      ],
      "metadata": {
        "id": "Ic63rj3CJOJB"
      },
      "execution_count": null,
      "outputs": []
    },
    {
      "cell_type": "code",
      "source": [
        "type(encoder)"
      ],
      "metadata": {
        "colab": {
          "base_uri": "https://localhost:8080/"
        },
        "id": "dwZPnFoKduQZ",
        "outputId": "99a49813-fa7f-4920-edef-46edc3b0840b"
      },
      "execution_count": null,
      "outputs": [
        {
          "output_type": "execute_result",
          "data": {
            "text/plain": [
              "__main__.Encoder"
            ]
          },
          "metadata": {},
          "execution_count": 166
        }
      ]
    },
    {
      "cell_type": "code",
      "source": [
        "def evaluate(sentence):\n",
        "\n",
        "  attention_plot = np.zeros((max_length_targ, max_length_inp))\n",
        "\n",
        "  sentence = Prepare_clean_sentence(sentence)\n",
        "  inputs = [inp_lang.word_index[i] for i in sentence.split(' ')]\n",
        "  inputs = tf.keras.preprocessing.sequence.pad_sequences([inputs], maxlen=max_length_inp, padding='post')\n",
        "  inputs = tf.convert_to_tensor(inputs)\n",
        "  result = ''\n",
        "  hidden = [tf.zeros((1, units))]\n",
        "  enc_out, enc_hidden = encoder(inputs, hidden) \n",
        "  dec_hidden = enc_hidden\n",
        "  dec_input = tf.expand_dims([targ_lang.word_index['<start>']], 0)\n",
        "\n",
        "  for t in range(max_length_targ):\n",
        "    predictions, dec_hidden, attention_weights = decoder(dec_input,dec_hidden,enc_out)\n",
        "\n",
        "    predicted_id = tf.argmax(predictions[0]).numpy()\n",
        "\n",
        "    result += targ_lang.index_word[predicted_id] + ' '\n",
        "\n",
        "    if targ_lang.index_word[predicted_id] == '<end>':\n",
        "      return result, sentence, attention_plot\n",
        "\n",
        "    dec_input = tf.expand_dims([predicted_id], 0)\n",
        "\n",
        "  return result, sentence, attention_plot\n",
        "  "
      ],
      "metadata": {
        "id": "B76sk7RDI4HG"
      },
      "execution_count": null,
      "outputs": []
    },
    {
      "cell_type": "code",
      "source": [
        "# function for plotting the attention weights\n",
        "def plot_attention(attention, sentence, predicted_sentence):\n",
        "  fig = plt.figure(figsize=(7,7))\n",
        "  ax = fig.add_subplot(1, 1, 1)\n",
        "\n",
        "  heatmap= ax.matshow(attention ,cmap='Greys')\n",
        "\n",
        "  for y in range(attention.shape[0]):\n",
        "        for x in range(attention.shape[1]):\n",
        "            ax.text(x , y, '%.4f' % attention[y, x],\n",
        "                     horizontalalignment='center',\n",
        "                     verticalalignment='center', color='black')\n",
        "\n",
        "  fig.colorbar(heatmap)\n",
        "\n",
        "  fontdict = {'fontsize': 14}\n",
        "\n",
        "  ax.set_xticklabels([''] + sentence, fontdict=fontdict, rotation=90)\n",
        "  ax.set_yticklabels([''] + predicted_sentence, fontdict=fontdict)\n",
        "\n",
        "#  ax.xaxis.set_major_locator(ticker.MultipleLocator(1))\n",
        " # ax.yaxis.set_major_locator(ticker.MultipleLocator(1))\n",
        "\n",
        "  plt.show()"
      ],
      "metadata": {
        "id": "peN0mDIvJkF8"
      },
      "execution_count": null,
      "outputs": []
    },
    {
      "cell_type": "code",
      "source": [
        "def translate(sentence):\n",
        "  result, sentence, attention_plot = evaluate(sentence)\n",
        "  \n",
        "  print('Input: %s' % (sentence))\n",
        "  print('Predicted translation: {}'.format(result))\n",
        "\n",
        "  attention_plot = attention_plot[:len(result.split(' ')), :len(sentence.split(' '))]\n",
        "  plot_attention(attention_plot, get_display(arabic_reshaper.reshape(sentence)).split(' '), result.split(' '))\n"
      ],
      "metadata": {
        "id": "BHB7cRQYJmwH"
      },
      "execution_count": null,
      "outputs": []
    },
    {
      "cell_type": "code",
      "source": [
        "#checkpoint.restore(tf.train.latest_checkpoint(checkpoint_dir))\n"
      ],
      "metadata": {
        "id": "Gx9ojFR4Jp-j"
      },
      "execution_count": null,
      "outputs": []
    },
    {
      "cell_type": "code",
      "source": [
        "'''\n",
        "\n",
        "لنجرب شيئاً!\tLet's try something.\n",
        "\n",
        "1\tعليّ أن أنام.\tI have to go to sleep.\n",
        "2\tعليّ الذهاب إلى النوم.\tI have to go to sleep.\n",
        "3\tلازم أنام.\tI have to go to sleep.\n",
        "4\tاليوم هو الثامن عشر من يونيو و هو عيد ميلاد مو...\tToday is June 18th and it is Muiriel's birthday!\n",
        "...\t...\t...\n",
        "27894\tمن أين أنتِ؟ \"أنا من الجزائر.\"\tWhere are you from? \"I come from Algeria.\"\n",
        "27895\tلا تحزن إن الله معنا.\tDo not grieve, indeed Allah is with us.\n",
        "27896\tلا تحزن إن الله معنا.\tDon't be sad, indeed Allah is with us.\n",
        "27897\tمحمد يحب أن يأکل ناسي ليماك.\tMuhammad likes to eat nasi lemak.\n",
        "27898\tتوم أرسل ماري إلى بوسطن.\tTom sent Mary to Boston.\n",
        "\n",
        "'''"
      ],
      "metadata": {
        "id": "TCVrDkAqdF4C"
      },
      "execution_count": null,
      "outputs": []
    },
    {
      "cell_type": "code",
      "source": [
        "'''\n",
        "Hi.\tمرحبًا.\n",
        "1\tRun!\tاركض!\n",
        "2\tHelp!\tالنجدة!\n",
        "3\tJump!\tاقفز!\n",
        "4\tStop!\tقف!\n",
        "5\tGo on.\tداوم.\n",
        "6\tGo on.\tاستمر.\n",
        "7\tHello!\tمرحباً.\n",
        "8\tHurry!\tتعجّل!\n",
        "9\tHurry!\tاستعجل!\n",
        "10\tI see.\tانا اري\n",
        "11\tI won!\tأنا فُزت!\n",
        "12\tSmile.\tابتسم.\n",
        "13\tCheers!\tفي صحتك.\n",
        "14\tGot it?\tهل فهمت؟\n",
        "15\tHe ran.\tركض.\n",
        "16\tI know.\tأعرف.\n",
        "17\tI know.\tأعلم ذلك.\n",
        "18\tI know.\tأنا أعلم\n",
        "19\tI'm 19.\tأنا في 19\n",
        "20\tI'm OK.\tأنا بخير.\n",
        "21\tListen.\tاستمع\n",
        "22\tNo way!\tغير معقول!\n",
        "23\tReally?\tحقاً؟\n",
        "24\tWhy me?\tلماذا أنا؟\n",
        "25\tAwesome!\tرائع!\n",
        "26\tCall me.\tهاتفني.\n",
        "27\tCall me.\tاتصل بي.\n",
        "28\tCome in.\tتفضل بالدخول.\n",
        "29\tCome in.\tتعال إلى الداخل\n",
        "30\tCome on!\tبالله عليك!\n",
        "31\tCome on!\tهيا\n",
        "32\tCome on!\tهيّا\n",
        "33\tGet out!\tاخرج من هنا!\n",
        "34\tGet out!\tأُخرج!\n",
        "35\tGet out.\tاخرج!\n",
        "36\tGo away.\tاتركني و شأني.\n",
        "37\tGo away.\tاذهب بعيداً.\n",
        "38\tGo away.\tارحل.\n",
        "39\tGoodbye!\tمع السلامة.\n",
        "40\tHe came.\tلقد أتى.\n",
        "41\tHe runs.\tهو يجري\n",
        "42\tHelp me!\tساعدني!\n",
        "43\tHelp me.\tالنجدة! ساعدني!\n",
        "44\tI'm sad.\tأنا حزين.\n",
        "45\tMe, too.\tأنا أيضاً.\n",
        "46\tShut up!\tاخرس!\n",
        "47\tShut up!\tاصمت!\n",
        "48\tShut up!\tاسكت!\n",
        "49\tShut up!\tأغلق فمك!\n",
        "'''"
      ],
      "metadata": {
        "id": "hN8KoDVkf2o5"
      },
      "execution_count": null,
      "outputs": []
    },
    {
      "cell_type": "code",
      "source": [
        ""
      ],
      "metadata": {
        "id": "fJnMzXtAf2u6"
      },
      "execution_count": null,
      "outputs": []
    },
    {
      "cell_type": "code",
      "metadata": {
        "id": "0hYKZs_RLRXm",
        "colab": {
          "base_uri": "https://localhost:8080/",
          "height": 516
        },
        "outputId": "c253bb51-7e23-4092-8b7b-e3f0b711111b"
      },
      "source": [
        "\n",
        "translate(u\" Help!\")\n"
      ],
      "execution_count": null,
      "outputs": [
        {
          "output_type": "stream",
          "name": "stdout",
          "text": [
            "Input: <start> help ! <end>\n",
            "Predicted translation: انا كنت في المنزل . <end> \n"
          ]
        },
        {
          "output_type": "display_data",
          "data": {
            "image/png": "[encoded data removed]",
            "text/plain": [
              "<Figure size 504x504 with 2 Axes>"
            ]
          },
          "metadata": {
            "needs_background": "light"
          }
        }
      ]
    },
    {
      "cell_type": "code",
      "source": [
        ""
      ],
      "metadata": {
        "id": "dtGjbB6o6X7H"
      },
      "execution_count": null,
      "outputs": []
    }
  ]
}